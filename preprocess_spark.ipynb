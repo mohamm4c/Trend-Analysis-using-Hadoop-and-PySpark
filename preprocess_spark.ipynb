{
 "cells": [
  {
   "cell_type": "code",
   "execution_count": 1,
   "metadata": {},
   "outputs": [],
   "source": [
    "import findspark\n",
    "findspark.init()"
   ]
  },
  {
   "cell_type": "code",
   "execution_count": 2,
   "metadata": {},
   "outputs": [
    {
     "data": {
      "text/html": [
       "<div>\n",
       "<style scoped>\n",
       "    .dataframe tbody tr th:only-of-type {\n",
       "        vertical-align: middle;\n",
       "    }\n",
       "\n",
       "    .dataframe tbody tr th {\n",
       "        vertical-align: top;\n",
       "    }\n",
       "\n",
       "    .dataframe thead th {\n",
       "        text-align: right;\n",
       "    }\n",
       "</style>\n",
       "<table border=\"1\" class=\"dataframe\">\n",
       "  <thead>\n",
       "    <tr style=\"text-align: right;\">\n",
       "      <th></th>\n",
       "      <th>id</th>\n",
       "      <th>asins</th>\n",
       "      <th>brand</th>\n",
       "      <th>categories</th>\n",
       "      <th>colors</th>\n",
       "      <th>dateAdded</th>\n",
       "      <th>dateUpdated</th>\n",
       "      <th>dimension</th>\n",
       "      <th>ean</th>\n",
       "      <th>imageURLs</th>\n",
       "      <th>...</th>\n",
       "      <th>reviews_doRecommend</th>\n",
       "      <th>reviews_numHelpful</th>\n",
       "      <th>reviews_rating</th>\n",
       "      <th>reviews_sourceURLs</th>\n",
       "      <th>reviews_text</th>\n",
       "      <th>reviews_title</th>\n",
       "      <th>reviews_username</th>\n",
       "      <th>sourceURLs</th>\n",
       "      <th>upc</th>\n",
       "      <th>weight</th>\n",
       "    </tr>\n",
       "  </thead>\n",
       "  <tbody>\n",
       "    <tr>\n",
       "      <th>0</th>\n",
       "      <td>AVpf3txeLJeJML43FN82</td>\n",
       "      <td>B0168YIWSI</td>\n",
       "      <td>Microsoft</td>\n",
       "      <td>Electronics,Computers,Computer Accessories,Key...</td>\n",
       "      <td>Black</td>\n",
       "      <td>2015-11-13T12:28:09Z</td>\n",
       "      <td>2018-01-29T02:15:13Z</td>\n",
       "      <td>11.6 in x 8.5 in x 0.19 in</td>\n",
       "      <td>8.900000e+11</td>\n",
       "      <td>https://i5.walmartimages.com/asr/2a41f6f0-844e...</td>\n",
       "      <td>...</td>\n",
       "      <td>True</td>\n",
       "      <td>0.0</td>\n",
       "      <td>5.0</td>\n",
       "      <td>http://reviews.bestbuy.com/3545/4562009/review...</td>\n",
       "      <td>This keyboard is very easy to type on, but the...</td>\n",
       "      <td>Love the fingerprint reader</td>\n",
       "      <td>JNH1</td>\n",
       "      <td>https://www.walmart.com/ip/Microsoft-Surface-P...</td>\n",
       "      <td>8.900000e+11</td>\n",
       "      <td>1.1 pounds</td>\n",
       "    </tr>\n",
       "    <tr>\n",
       "      <th>1</th>\n",
       "      <td>AVpf3txeLJeJML43FN82</td>\n",
       "      <td>B0168YIWSI</td>\n",
       "      <td>Microsoft</td>\n",
       "      <td>Electronics,Computers,Computer Accessories,Key...</td>\n",
       "      <td>Black</td>\n",
       "      <td>2015-11-13T12:28:09Z</td>\n",
       "      <td>2018-01-29T02:15:13Z</td>\n",
       "      <td>11.6 in x 8.5 in x 0.19 in</td>\n",
       "      <td>8.900000e+11</td>\n",
       "      <td>https://i5.walmartimages.com/asr/2a41f6f0-844e...</td>\n",
       "      <td>...</td>\n",
       "      <td>True</td>\n",
       "      <td>0.0</td>\n",
       "      <td>4.0</td>\n",
       "      <td>http://reviews.bestbuy.com/3545/4562009/review...</td>\n",
       "      <td>It's thin and light. I can type pretty easily ...</td>\n",
       "      <td>Nice</td>\n",
       "      <td>Appa</td>\n",
       "      <td>https://www.walmart.com/ip/Microsoft-Surface-P...</td>\n",
       "      <td>8.900000e+11</td>\n",
       "      <td>1.1 pounds</td>\n",
       "    </tr>\n",
       "    <tr>\n",
       "      <th>2</th>\n",
       "      <td>AVpf3txeLJeJML43FN82</td>\n",
       "      <td>B0168YIWSI</td>\n",
       "      <td>Microsoft</td>\n",
       "      <td>Electronics,Computers,Computer Accessories,Key...</td>\n",
       "      <td>Black</td>\n",
       "      <td>2015-11-13T12:28:09Z</td>\n",
       "      <td>2018-01-29T02:15:13Z</td>\n",
       "      <td>11.6 in x 8.5 in x 0.19 in</td>\n",
       "      <td>8.900000e+11</td>\n",
       "      <td>https://i5.walmartimages.com/asr/2a41f6f0-844e...</td>\n",
       "      <td>...</td>\n",
       "      <td>True</td>\n",
       "      <td>0.0</td>\n",
       "      <td>4.0</td>\n",
       "      <td>http://reviews.bestbuy.com/3545/4562009/review...</td>\n",
       "      <td>I love the new design the keys are spaced well...</td>\n",
       "      <td>New</td>\n",
       "      <td>Kman</td>\n",
       "      <td>https://www.walmart.com/ip/Microsoft-Surface-P...</td>\n",
       "      <td>8.900000e+11</td>\n",
       "      <td>1.1 pounds</td>\n",
       "    </tr>\n",
       "    <tr>\n",
       "      <th>3</th>\n",
       "      <td>AVpf3txeLJeJML43FN82</td>\n",
       "      <td>B0168YIWSI</td>\n",
       "      <td>Microsoft</td>\n",
       "      <td>Electronics,Computers,Computer Accessories,Key...</td>\n",
       "      <td>Black</td>\n",
       "      <td>2015-11-13T12:28:09Z</td>\n",
       "      <td>2018-01-29T02:15:13Z</td>\n",
       "      <td>11.6 in x 8.5 in x 0.19 in</td>\n",
       "      <td>8.900000e+11</td>\n",
       "      <td>https://i5.walmartimages.com/asr/2a41f6f0-844e...</td>\n",
       "      <td>...</td>\n",
       "      <td>True</td>\n",
       "      <td>0.0</td>\n",
       "      <td>5.0</td>\n",
       "      <td>http://reviews.bestbuy.com/3545/4562009/review...</td>\n",
       "      <td>Attached easily and firmly. Has a nice feel. A...</td>\n",
       "      <td>Nice keyboard</td>\n",
       "      <td>UpstateNY</td>\n",
       "      <td>https://www.walmart.com/ip/Microsoft-Surface-P...</td>\n",
       "      <td>8.900000e+11</td>\n",
       "      <td>1.1 pounds</td>\n",
       "    </tr>\n",
       "    <tr>\n",
       "      <th>4</th>\n",
       "      <td>AVpf3txeLJeJML43FN82</td>\n",
       "      <td>B0168YIWSI</td>\n",
       "      <td>Microsoft</td>\n",
       "      <td>Electronics,Computers,Computer Accessories,Key...</td>\n",
       "      <td>Black</td>\n",
       "      <td>2015-11-13T12:28:09Z</td>\n",
       "      <td>2018-01-29T02:15:13Z</td>\n",
       "      <td>11.6 in x 8.5 in x 0.19 in</td>\n",
       "      <td>8.900000e+11</td>\n",
       "      <td>https://i5.walmartimages.com/asr/2a41f6f0-844e...</td>\n",
       "      <td>...</td>\n",
       "      <td>True</td>\n",
       "      <td>0.0</td>\n",
       "      <td>5.0</td>\n",
       "      <td>http://reviews.bestbuy.com/3545/4562009/review...</td>\n",
       "      <td>Our original keyboard was okay, but did not ha...</td>\n",
       "      <td>Nice improvement</td>\n",
       "      <td>Glickster</td>\n",
       "      <td>https://www.walmart.com/ip/Microsoft-Surface-P...</td>\n",
       "      <td>8.900000e+11</td>\n",
       "      <td>1.1 pounds</td>\n",
       "    </tr>\n",
       "    <tr>\n",
       "      <th>...</th>\n",
       "      <td>...</td>\n",
       "      <td>...</td>\n",
       "      <td>...</td>\n",
       "      <td>...</td>\n",
       "      <td>...</td>\n",
       "      <td>...</td>\n",
       "      <td>...</td>\n",
       "      <td>...</td>\n",
       "      <td>...</td>\n",
       "      <td>...</td>\n",
       "      <td>...</td>\n",
       "      <td>...</td>\n",
       "      <td>...</td>\n",
       "      <td>...</td>\n",
       "      <td>...</td>\n",
       "      <td>...</td>\n",
       "      <td>...</td>\n",
       "      <td>...</td>\n",
       "      <td>...</td>\n",
       "      <td>...</td>\n",
       "      <td>...</td>\n",
       "    </tr>\n",
       "    <tr>\n",
       "      <th>7294</th>\n",
       "      <td>AVpgfP3DilAPnD_xtG3M</td>\n",
       "      <td>B00IAKLM54</td>\n",
       "      <td>Logitech</td>\n",
       "      <td>Electronics,Accessories &amp; Supplies,Audio &amp; Vid...</td>\n",
       "      <td>Black</td>\n",
       "      <td>2015-05-18T12:55:52Z</td>\n",
       "      <td>2018-03-23T17:22:18Z</td>\n",
       "      <td>2.2 x 1.2 x 7.3 inches</td>\n",
       "      <td>9.785510e+10</td>\n",
       "      <td>https://images-na.ssl-images-amazon.com/images...</td>\n",
       "      <td>...</td>\n",
       "      <td>NaN</td>\n",
       "      <td>NaN</td>\n",
       "      <td>4.0</td>\n",
       "      <td>http://www.ebay.com/itm/Logitech-Harmony-Ultim...</td>\n",
       "      <td>This remote was a decent replacement for my lo...</td>\n",
       "      <td>Great Remote</td>\n",
       "      <td>daddyluv01</td>\n",
       "      <td>https://www.amazon.com/Logitech-Ultimate-15-De...</td>\n",
       "      <td>9.785510e+10</td>\n",
       "      <td>1.7 pounds</td>\n",
       "    </tr>\n",
       "    <tr>\n",
       "      <th>7295</th>\n",
       "      <td>AVpe8ZRY1cnluZ0-aY4H</td>\n",
       "      <td>B005MJHFHK,B00VXW0J5A,B00OY50CZU</td>\n",
       "      <td>Peerless-AV</td>\n",
       "      <td>Office,Projectors &amp; Presentation Equipment,Aud...</td>\n",
       "      <td>NaN</td>\n",
       "      <td>2015-07-13T16:17:19Z</td>\n",
       "      <td>2018-06-05T22:51:35Z</td>\n",
       "      <td>NaN</td>\n",
       "      <td>7.350000e+11</td>\n",
       "      <td>https://pisces.bbystatic.com/image2/BestBuy_US...</td>\n",
       "      <td>...</td>\n",
       "      <td>True</td>\n",
       "      <td>0.0</td>\n",
       "      <td>4.0</td>\n",
       "      <td>http://reviews.bestbuy.com/3545/8180158/review...</td>\n",
       "      <td>This looks good on my celling. Flushes very we...</td>\n",
       "      <td>Good product</td>\n",
       "      <td>Dash001</td>\n",
       "      <td>http://www.amazon.com/BEST-PEERLESS-AV-Ceiling...</td>\n",
       "      <td>7.350000e+11</td>\n",
       "      <td>1.2 lbs</td>\n",
       "    </tr>\n",
       "    <tr>\n",
       "      <th>7296</th>\n",
       "      <td>AVpe8ZRY1cnluZ0-aY4H</td>\n",
       "      <td>B005MJHFHK,B00VXW0J5A,B00OY50CZU</td>\n",
       "      <td>Peerless-AV</td>\n",
       "      <td>Office,Projectors &amp; Presentation Equipment,Aud...</td>\n",
       "      <td>NaN</td>\n",
       "      <td>2015-07-13T16:17:19Z</td>\n",
       "      <td>2018-06-05T22:51:35Z</td>\n",
       "      <td>NaN</td>\n",
       "      <td>7.350000e+11</td>\n",
       "      <td>https://pisces.bbystatic.com/image2/BestBuy_US...</td>\n",
       "      <td>...</td>\n",
       "      <td>True</td>\n",
       "      <td>0.0</td>\n",
       "      <td>4.0</td>\n",
       "      <td>http://reviews.bestbuy.com/3545/8180158/review...</td>\n",
       "      <td>Great Plate for projector mount, very easy to ...</td>\n",
       "      <td>Great Plate</td>\n",
       "      <td>Anirban</td>\n",
       "      <td>http://www.amazon.com/BEST-PEERLESS-AV-Ceiling...</td>\n",
       "      <td>7.350000e+11</td>\n",
       "      <td>1.2 lbs</td>\n",
       "    </tr>\n",
       "    <tr>\n",
       "      <th>7297</th>\n",
       "      <td>AVpe8ZRY1cnluZ0-aY4H</td>\n",
       "      <td>B005MJHFHK,B00VXW0J5A,B00OY50CZU</td>\n",
       "      <td>Peerless-AV</td>\n",
       "      <td>Office,Projectors &amp; Presentation Equipment,Aud...</td>\n",
       "      <td>NaN</td>\n",
       "      <td>2015-07-13T16:17:19Z</td>\n",
       "      <td>2018-06-05T22:51:35Z</td>\n",
       "      <td>NaN</td>\n",
       "      <td>7.350000e+11</td>\n",
       "      <td>https://pisces.bbystatic.com/image2/BestBuy_US...</td>\n",
       "      <td>...</td>\n",
       "      <td>True</td>\n",
       "      <td>0.0</td>\n",
       "      <td>5.0</td>\n",
       "      <td>http://reviews.bestbuy.com/3545/8180158/review...</td>\n",
       "      <td>This mount worked very well for me when I used...</td>\n",
       "      <td>great mount works well with adjustable column</td>\n",
       "      <td>jbce</td>\n",
       "      <td>http://www.amazon.com/BEST-PEERLESS-AV-Ceiling...</td>\n",
       "      <td>7.350000e+11</td>\n",
       "      <td>1.2 lbs</td>\n",
       "    </tr>\n",
       "    <tr>\n",
       "      <th>7298</th>\n",
       "      <td>AVpe8ZRY1cnluZ0-aY4H</td>\n",
       "      <td>B005MJHFHK,B00VXW0J5A,B00OY50CZU</td>\n",
       "      <td>Peerless-AV</td>\n",
       "      <td>Office,Projectors &amp; Presentation Equipment,Aud...</td>\n",
       "      <td>NaN</td>\n",
       "      <td>2015-07-13T16:17:19Z</td>\n",
       "      <td>2018-06-05T22:51:35Z</td>\n",
       "      <td>NaN</td>\n",
       "      <td>7.350000e+11</td>\n",
       "      <td>https://pisces.bbystatic.com/image2/BestBuy_US...</td>\n",
       "      <td>...</td>\n",
       "      <td>True</td>\n",
       "      <td>0.0</td>\n",
       "      <td>4.0</td>\n",
       "      <td>http://reviews.bestbuy.com/3545/8180158/review...</td>\n",
       "      <td>It's a nice solid mounting plate check and mak...</td>\n",
       "      <td>Mount plate</td>\n",
       "      <td>Scott1226</td>\n",
       "      <td>http://www.amazon.com/BEST-PEERLESS-AV-Ceiling...</td>\n",
       "      <td>7.350000e+11</td>\n",
       "      <td>1.2 lbs</td>\n",
       "    </tr>\n",
       "  </tbody>\n",
       "</table>\n",
       "<p>7299 rows × 27 columns</p>\n",
       "</div>"
      ],
      "text/plain": [
       "                        id                             asins        brand  \\\n",
       "0     AVpf3txeLJeJML43FN82                        B0168YIWSI    Microsoft   \n",
       "1     AVpf3txeLJeJML43FN82                        B0168YIWSI    Microsoft   \n",
       "2     AVpf3txeLJeJML43FN82                        B0168YIWSI    Microsoft   \n",
       "3     AVpf3txeLJeJML43FN82                        B0168YIWSI    Microsoft   \n",
       "4     AVpf3txeLJeJML43FN82                        B0168YIWSI    Microsoft   \n",
       "...                    ...                               ...          ...   \n",
       "7294  AVpgfP3DilAPnD_xtG3M                        B00IAKLM54     Logitech   \n",
       "7295  AVpe8ZRY1cnluZ0-aY4H  B005MJHFHK,B00VXW0J5A,B00OY50CZU  Peerless-AV   \n",
       "7296  AVpe8ZRY1cnluZ0-aY4H  B005MJHFHK,B00VXW0J5A,B00OY50CZU  Peerless-AV   \n",
       "7297  AVpe8ZRY1cnluZ0-aY4H  B005MJHFHK,B00VXW0J5A,B00OY50CZU  Peerless-AV   \n",
       "7298  AVpe8ZRY1cnluZ0-aY4H  B005MJHFHK,B00VXW0J5A,B00OY50CZU  Peerless-AV   \n",
       "\n",
       "                                             categories colors  \\\n",
       "0     Electronics,Computers,Computer Accessories,Key...  Black   \n",
       "1     Electronics,Computers,Computer Accessories,Key...  Black   \n",
       "2     Electronics,Computers,Computer Accessories,Key...  Black   \n",
       "3     Electronics,Computers,Computer Accessories,Key...  Black   \n",
       "4     Electronics,Computers,Computer Accessories,Key...  Black   \n",
       "...                                                 ...    ...   \n",
       "7294  Electronics,Accessories & Supplies,Audio & Vid...  Black   \n",
       "7295  Office,Projectors & Presentation Equipment,Aud...    NaN   \n",
       "7296  Office,Projectors & Presentation Equipment,Aud...    NaN   \n",
       "7297  Office,Projectors & Presentation Equipment,Aud...    NaN   \n",
       "7298  Office,Projectors & Presentation Equipment,Aud...    NaN   \n",
       "\n",
       "                 dateAdded           dateUpdated                   dimension  \\\n",
       "0     2015-11-13T12:28:09Z  2018-01-29T02:15:13Z  11.6 in x 8.5 in x 0.19 in   \n",
       "1     2015-11-13T12:28:09Z  2018-01-29T02:15:13Z  11.6 in x 8.5 in x 0.19 in   \n",
       "2     2015-11-13T12:28:09Z  2018-01-29T02:15:13Z  11.6 in x 8.5 in x 0.19 in   \n",
       "3     2015-11-13T12:28:09Z  2018-01-29T02:15:13Z  11.6 in x 8.5 in x 0.19 in   \n",
       "4     2015-11-13T12:28:09Z  2018-01-29T02:15:13Z  11.6 in x 8.5 in x 0.19 in   \n",
       "...                    ...                   ...                         ...   \n",
       "7294  2015-05-18T12:55:52Z  2018-03-23T17:22:18Z      2.2 x 1.2 x 7.3 inches   \n",
       "7295  2015-07-13T16:17:19Z  2018-06-05T22:51:35Z                         NaN   \n",
       "7296  2015-07-13T16:17:19Z  2018-06-05T22:51:35Z                         NaN   \n",
       "7297  2015-07-13T16:17:19Z  2018-06-05T22:51:35Z                         NaN   \n",
       "7298  2015-07-13T16:17:19Z  2018-06-05T22:51:35Z                         NaN   \n",
       "\n",
       "               ean                                          imageURLs  ...  \\\n",
       "0     8.900000e+11  https://i5.walmartimages.com/asr/2a41f6f0-844e...  ...   \n",
       "1     8.900000e+11  https://i5.walmartimages.com/asr/2a41f6f0-844e...  ...   \n",
       "2     8.900000e+11  https://i5.walmartimages.com/asr/2a41f6f0-844e...  ...   \n",
       "3     8.900000e+11  https://i5.walmartimages.com/asr/2a41f6f0-844e...  ...   \n",
       "4     8.900000e+11  https://i5.walmartimages.com/asr/2a41f6f0-844e...  ...   \n",
       "...            ...                                                ...  ...   \n",
       "7294  9.785510e+10  https://images-na.ssl-images-amazon.com/images...  ...   \n",
       "7295  7.350000e+11  https://pisces.bbystatic.com/image2/BestBuy_US...  ...   \n",
       "7296  7.350000e+11  https://pisces.bbystatic.com/image2/BestBuy_US...  ...   \n",
       "7297  7.350000e+11  https://pisces.bbystatic.com/image2/BestBuy_US...  ...   \n",
       "7298  7.350000e+11  https://pisces.bbystatic.com/image2/BestBuy_US...  ...   \n",
       "\n",
       "     reviews_doRecommend reviews_numHelpful reviews_rating  \\\n",
       "0                   True                0.0            5.0   \n",
       "1                   True                0.0            4.0   \n",
       "2                   True                0.0            4.0   \n",
       "3                   True                0.0            5.0   \n",
       "4                   True                0.0            5.0   \n",
       "...                  ...                ...            ...   \n",
       "7294                 NaN                NaN            4.0   \n",
       "7295                True                0.0            4.0   \n",
       "7296                True                0.0            4.0   \n",
       "7297                True                0.0            5.0   \n",
       "7298                True                0.0            4.0   \n",
       "\n",
       "                                     reviews_sourceURLs  \\\n",
       "0     http://reviews.bestbuy.com/3545/4562009/review...   \n",
       "1     http://reviews.bestbuy.com/3545/4562009/review...   \n",
       "2     http://reviews.bestbuy.com/3545/4562009/review...   \n",
       "3     http://reviews.bestbuy.com/3545/4562009/review...   \n",
       "4     http://reviews.bestbuy.com/3545/4562009/review...   \n",
       "...                                                 ...   \n",
       "7294  http://www.ebay.com/itm/Logitech-Harmony-Ultim...   \n",
       "7295  http://reviews.bestbuy.com/3545/8180158/review...   \n",
       "7296  http://reviews.bestbuy.com/3545/8180158/review...   \n",
       "7297  http://reviews.bestbuy.com/3545/8180158/review...   \n",
       "7298  http://reviews.bestbuy.com/3545/8180158/review...   \n",
       "\n",
       "                                           reviews_text  \\\n",
       "0     This keyboard is very easy to type on, but the...   \n",
       "1     It's thin and light. I can type pretty easily ...   \n",
       "2     I love the new design the keys are spaced well...   \n",
       "3     Attached easily and firmly. Has a nice feel. A...   \n",
       "4     Our original keyboard was okay, but did not ha...   \n",
       "...                                                 ...   \n",
       "7294  This remote was a decent replacement for my lo...   \n",
       "7295  This looks good on my celling. Flushes very we...   \n",
       "7296  Great Plate for projector mount, very easy to ...   \n",
       "7297  This mount worked very well for me when I used...   \n",
       "7298  It's a nice solid mounting plate check and mak...   \n",
       "\n",
       "                                      reviews_title reviews_username  \\\n",
       "0                       Love the fingerprint reader             JNH1   \n",
       "1                                              Nice             Appa   \n",
       "2                                               New             Kman   \n",
       "3                                     Nice keyboard        UpstateNY   \n",
       "4                                  Nice improvement        Glickster   \n",
       "...                                             ...              ...   \n",
       "7294                                   Great Remote       daddyluv01   \n",
       "7295                                   Good product          Dash001   \n",
       "7296                                    Great Plate          Anirban   \n",
       "7297  great mount works well with adjustable column             jbce   \n",
       "7298                                    Mount plate        Scott1226   \n",
       "\n",
       "                                             sourceURLs           upc  \\\n",
       "0     https://www.walmart.com/ip/Microsoft-Surface-P...  8.900000e+11   \n",
       "1     https://www.walmart.com/ip/Microsoft-Surface-P...  8.900000e+11   \n",
       "2     https://www.walmart.com/ip/Microsoft-Surface-P...  8.900000e+11   \n",
       "3     https://www.walmart.com/ip/Microsoft-Surface-P...  8.900000e+11   \n",
       "4     https://www.walmart.com/ip/Microsoft-Surface-P...  8.900000e+11   \n",
       "...                                                 ...           ...   \n",
       "7294  https://www.amazon.com/Logitech-Ultimate-15-De...  9.785510e+10   \n",
       "7295  http://www.amazon.com/BEST-PEERLESS-AV-Ceiling...  7.350000e+11   \n",
       "7296  http://www.amazon.com/BEST-PEERLESS-AV-Ceiling...  7.350000e+11   \n",
       "7297  http://www.amazon.com/BEST-PEERLESS-AV-Ceiling...  7.350000e+11   \n",
       "7298  http://www.amazon.com/BEST-PEERLESS-AV-Ceiling...  7.350000e+11   \n",
       "\n",
       "          weight  \n",
       "0     1.1 pounds  \n",
       "1     1.1 pounds  \n",
       "2     1.1 pounds  \n",
       "3     1.1 pounds  \n",
       "4     1.1 pounds  \n",
       "...          ...  \n",
       "7294  1.7 pounds  \n",
       "7295     1.2 lbs  \n",
       "7296     1.2 lbs  \n",
       "7297     1.2 lbs  \n",
       "7298     1.2 lbs  \n",
       "\n",
       "[7299 rows x 27 columns]"
      ]
     },
     "execution_count": 2,
     "metadata": {},
     "output_type": "execute_result"
    }
   ],
   "source": [
    "import pandas as pd\n",
    "pd.read_csv('DatafinitiElectronicsProductData.csv')"
   ]
  },
  {
   "cell_type": "code",
   "execution_count": 1,
   "metadata": {},
   "outputs": [],
   "source": [
    "from pyspark.sql import SparkSession"
   ]
  },
  {
   "cell_type": "code",
   "execution_count": 2,
   "metadata": {},
   "outputs": [],
   "source": [
    "spark=SparkSession.builder.appName('Project').getOrCreate()"
   ]
  },
  {
   "cell_type": "code",
   "execution_count": 3,
   "metadata": {},
   "outputs": [
    {
     "data": {
      "text/html": [
       "\n",
       "            <div>\n",
       "                <p><b>SparkSession - hive</b></p>\n",
       "                \n",
       "        <div>\n",
       "            <p><b>SparkContext</b></p>\n",
       "\n",
       "            <p><a href=\"http://192.168.2.32:4040\">Spark UI</a></p>\n",
       "\n",
       "            <dl>\n",
       "              <dt>Version</dt>\n",
       "                <dd><code>v3.2.0</code></dd>\n",
       "              <dt>Master</dt>\n",
       "                <dd><code>local[2]</code></dd>\n",
       "              <dt>AppName</dt>\n",
       "                <dd><code>PySparkShell</code></dd>\n",
       "            </dl>\n",
       "        </div>\n",
       "        \n",
       "            </div>\n",
       "        "
      ],
      "text/plain": [
       "<pyspark.sql.session.SparkSession at 0x197bb9214c8>"
      ]
     },
     "execution_count": 3,
     "metadata": {},
     "output_type": "execute_result"
    }
   ],
   "source": [
    "spark"
   ]
  },
  {
   "cell_type": "code",
   "execution_count": 4,
   "metadata": {},
   "outputs": [],
   "source": [
    "df_pyspark=spark.read.csv('DatafinitiElectronicsProductData.csv')"
   ]
  },
  {
   "cell_type": "code",
   "execution_count": 7,
   "metadata": {},
   "outputs": [
    {
     "name": "stdout",
     "output_type": "stream",
     "text": [
      "+--------------------+----------+---------+--------------------+------+--------------------+--------------------+--------------------+--------+--------------------+--------------------+------------+------------------+--------------------+-----------------+--------------------+--------------------+-------------------+------------------+--------------+--------------------+--------------------+--------------------+----------------+--------------------+--------+----------+\n",
      "|                 _c0|       _c1|      _c2|                 _c3|   _c4|                 _c5|                 _c6|                 _c7|     _c8|                 _c9|                _c10|        _c11|              _c12|                _c13|             _c14|                _c15|                _c16|               _c17|              _c18|          _c19|                _c20|                _c21|                _c22|            _c23|                _c24|    _c25|      _c26|\n",
      "+--------------------+----------+---------+--------------------+------+--------------------+--------------------+--------------------+--------+--------------------+--------------------+------------+------------------+--------------------+-----------------+--------------------+--------------------+-------------------+------------------+--------------+--------------------+--------------------+--------------------+----------------+--------------------+--------+----------+\n",
      "|                  id|     asins|    brand|          categories|colors|           dateAdded|         dateUpdated|           dimension|     ean|           imageURLs|                keys|manufacturer|manufacturerNumber|                name|primaryCategories|        reviews_date|    reviews_dateSeen|reviews_doRecommend|reviews_numHelpful|reviews_rating|  reviews_sourceURLs|        reviews_text|       reviews_title|reviews_username|          sourceURLs|     upc|    weight|\n",
      "|AVpf3txeLJeJML43FN82|B0168YIWSI|Microsoft|Electronics,Compu...| Black|2015-11-13T12:28:09Z|2018-01-29T02:15:13Z|11.6 in x 8.5 in ...|8.90E+11|https://i5.walmar...|microsoftsurfacep...|   Microsoft|         RH7-00001|Microsoft Surface...|      Electronics|2015-12-04T00:00:...|2017-09-03T00:00:...|               TRUE|                 0|             5|http://reviews.be...|This keyboard is ...|Love the fingerpr...|            JNH1|https://www.walma...|8.90E+11|1.1 pounds|\n",
      "|AVpf3txeLJeJML43FN82|B0168YIWSI|Microsoft|Electronics,Compu...| Black|2015-11-13T12:28:09Z|2018-01-29T02:15:13Z|11.6 in x 8.5 in ...|8.90E+11|https://i5.walmar...|microsoftsurfacep...|   Microsoft|         RH7-00001|Microsoft Surface...|      Electronics|2015-12-04T00:00:...|2017-09-03T00:00:...|               TRUE|                 0|             4|http://reviews.be...|It's thin and lig...|                Nice|            Appa|https://www.walma...|8.90E+11|1.1 pounds|\n",
      "|AVpf3txeLJeJML43FN82|B0168YIWSI|Microsoft|Electronics,Compu...| Black|2015-11-13T12:28:09Z|2018-01-29T02:15:13Z|11.6 in x 8.5 in ...|8.90E+11|https://i5.walmar...|microsoftsurfacep...|   Microsoft|         RH7-00001|Microsoft Surface...|      Electronics|2015-12-04T00:00:...|2017-09-03T00:00:...|               TRUE|                 0|             4|http://reviews.be...|I love the new de...|                 New|            Kman|https://www.walma...|8.90E+11|1.1 pounds|\n",
      "|AVpf3txeLJeJML43FN82|B0168YIWSI|Microsoft|Electronics,Compu...| Black|2015-11-13T12:28:09Z|2018-01-29T02:15:13Z|11.6 in x 8.5 in ...|8.90E+11|https://i5.walmar...|microsoftsurfacep...|   Microsoft|         RH7-00001|Microsoft Surface...|      Electronics|2015-12-01T00:00:...|2017-09-03T00:00:...|               TRUE|                 0|             5|http://reviews.be...|Attached easily a...|       Nice keyboard|       UpstateNY|https://www.walma...|8.90E+11|1.1 pounds|\n",
      "|AVpf3txeLJeJML43FN82|B0168YIWSI|Microsoft|Electronics,Compu...| Black|2015-11-13T12:28:09Z|2018-01-29T02:15:13Z|11.6 in x 8.5 in ...|8.90E+11|https://i5.walmar...|microsoftsurfacep...|   Microsoft|         RH7-00001|Microsoft Surface...|      Electronics|2015-11-28T00:00:...|2017-09-03T00:00:...|               TRUE|                 0|             5|http://reviews.be...|Our original keyb...|    Nice improvement|       Glickster|https://www.walma...|8.90E+11|1.1 pounds|\n",
      "|AVpf3txeLJeJML43FN82|B0168YIWSI|Microsoft|Electronics,Compu...| Black|2015-11-13T12:28:09Z|2018-01-29T02:15:13Z|11.6 in x 8.5 in ...|8.90E+11|https://i5.walmar...|microsoftsurfacep...|   Microsoft|         RH7-00001|Microsoft Surface...|      Electronics|2015-11-28T00:00:...|2017-09-03T00:00:...|               TRUE|                 0|             5|http://reviews.be...|purchased to repl...|     big improvement|      gjohnsonxc|https://www.walma...|8.90E+11|1.1 pounds|\n",
      "|AVpf3txeLJeJML43FN82|B0168YIWSI|Microsoft|Electronics,Compu...| Black|2015-11-13T12:28:09Z|2018-01-29T02:15:13Z|11.6 in x 8.5 in ...|8.90E+11|https://i5.walmar...|microsoftsurfacep...|   Microsoft|         RH7-00001|Microsoft Surface...|      Electronics|2015-11-27T00:00:...|2017-09-03T00:00:...|               TRUE|                 0|             4|http://reviews.be...|I find it very co...|  Perfect type cover|         nakulrk|https://www.walma...|8.90E+11|1.1 pounds|\n",
      "|AVpf3txeLJeJML43FN82|B0168YIWSI|Microsoft|Electronics,Compu...| Black|2015-11-13T12:28:09Z|2018-01-29T02:15:13Z|11.6 in x 8.5 in ...|8.90E+11|https://i5.walmar...|microsoftsurfacep...|   Microsoft|         RH7-00001|Microsoft Surface...|      Electronics|2015-11-27T00:00:...|2017-09-03T00:00:...|              FALSE|                 0|             3|http://reviews.be...|Good Keyboard and...|       Good Keyboard|           Angie|https://www.walma...|8.90E+11|1.1 pounds|\n",
      "|AVpf3txeLJeJML43FN82|B0168YIWSI|Microsoft|Electronics,Compu...| Black|2015-11-13T12:28:09Z|2018-01-29T02:15:13Z|11.6 in x 8.5 in ...|8.90E+11|https://i5.walmar...|microsoftsurfacep...|   Microsoft|         RH7-00001|Microsoft Surface...|      Electronics|2016-02-05T00:00:...|2017-09-03T00:00:...|               TRUE|                 0|             4|http://reviews.be...|tough getting it ...|    nice improvement|        papabear|https://www.walma...|8.90E+11|1.1 pounds|\n",
      "|AVpf3txeLJeJML43FN82|B0168YIWSI|Microsoft|Electronics,Compu...| Black|2015-11-13T12:28:09Z|2018-01-29T02:15:13Z|11.6 in x 8.5 in ...|8.90E+11|https://i5.walmar...|microsoftsurfacep...|   Microsoft|         RH7-00001|Microsoft Surface...|      Electronics|2016-02-05T00:00:...|2017-09-03T00:00:...|               TRUE|                 0|             5|http://reviews.be...|I can now quickly...|Fingerprint Scann...|         A199578|https://www.walma...|8.90E+11|1.1 pounds|\n",
      "|AVpf3txeLJeJML43FN82|B0168YIWSI|Microsoft|Electronics,Compu...| Black|2015-11-13T12:28:09Z|2018-01-29T02:15:13Z|11.6 in x 8.5 in ...|8.90E+11|https://i5.walmar...|microsoftsurfacep...|   Microsoft|         RH7-00001|Microsoft Surface...|      Electronics|2016-02-05T00:00:...|2017-09-03T00:00:...|               TRUE|                 0|             5|http://reviews.be...|A must have acces...|           Must have|     hooverlover|https://www.walma...|8.90E+11|1.1 pounds|\n",
      "|AVpf3txeLJeJML43FN82|B0168YIWSI|Microsoft|Electronics,Compu...| Black|2015-11-13T12:28:09Z|2018-01-29T02:15:13Z|11.6 in x 8.5 in ...|8.90E+11|https://i5.walmar...|microsoftsurfacep...|   Microsoft|         RH7-00001|Microsoft Surface...|      Electronics|2016-02-05T00:00:...|2017-09-03T00:00:...|              FALSE|                 0|             4|http://reviews.be...|Fingerprint scann...| not worth the price|          lundi3|https://www.walma...|8.90E+11|1.1 pounds|\n",
      "|AVpf3txeLJeJML43FN82|B0168YIWSI|Microsoft|Electronics,Compu...| Black|2015-11-13T12:28:09Z|2018-01-29T02:15:13Z|11.6 in x 8.5 in ...|8.90E+11|https://i5.walmar...|microsoftsurfacep...|   Microsoft|         RH7-00001|Microsoft Surface...|      Electronics|2016-02-05T00:00:...|2017-09-03T00:00:...|               TRUE|                 0|             4|http://reviews.be...|The keyboard feel...|Great keyboard; g...|          mevans|https://www.walma...|8.90E+11|1.1 pounds|\n",
      "|AVpf3txeLJeJML43FN82|B0168YIWSI|Microsoft|Electronics,Compu...| Black|2015-11-13T12:28:09Z|2018-01-29T02:15:13Z|11.6 in x 8.5 in ...|8.90E+11|https://i5.walmar...|microsoftsurfacep...|   Microsoft|         RH7-00001|Microsoft Surface...|      Electronics|2016-02-02T00:00:...|2017-09-03T00:00:...|               TRUE|                 0|             4|http://reviews.be...|I really like the...|Keyboard very smo...|          Looloo|https://www.walma...|8.90E+11|1.1 pounds|\n",
      "|AVpf3txeLJeJML43FN82|B0168YIWSI|Microsoft|Electronics,Compu...| Black|2015-11-13T12:28:09Z|2018-01-29T02:15:13Z|11.6 in x 8.5 in ...|8.90E+11|https://i5.walmar...|microsoftsurfacep...|   Microsoft|         RH7-00001|Microsoft Surface...|      Electronics|2016-01-31T00:00:...|2017-09-03T00:00:...|               TRUE|                 0|             4|http://reviews.be...|Good product but ...|              Pricey|           kooah|https://www.walma...|8.90E+11|1.1 pounds|\n",
      "|AVpf3txeLJeJML43FN82|B0168YIWSI|Microsoft|Electronics,Compu...| Black|2015-11-13T12:28:09Z|2018-01-29T02:15:13Z|11.6 in x 8.5 in ...|8.90E+11|https://i5.walmar...|microsoftsurfacep...|   Microsoft|         RH7-00001|Microsoft Surface...|      Electronics|2016-01-31T00:00:...|2017-09-03T00:00:...|               TRUE|                 0|             5|http://reviews.be...|Best keyboard. A ...|              a must|           kbrei|https://www.walma...|8.90E+11|1.1 pounds|\n",
      "|AVpf3txeLJeJML43FN82|B0168YIWSI|Microsoft|Electronics,Compu...| Black|2015-11-13T12:28:09Z|2018-01-29T02:15:13Z|11.6 in x 8.5 in ...|8.90E+11|https://i5.walmar...|microsoftsurfacep...|   Microsoft|         RH7-00001|Microsoft Surface...|      Electronics|2015-11-20T00:00:...|2017-09-03T00:00:...|               TRUE|                 2|             5|http://reviews.be...|Keyboard works pe...|     Great Keyboard!|     LovetoSleep|https://www.walma...|8.90E+11|1.1 pounds|\n",
      "|AVpf3txeLJeJML43FN82|B0168YIWSI|Microsoft|Electronics,Compu...| Black|2015-11-13T12:28:09Z|2018-01-29T02:15:13Z|11.6 in x 8.5 in ...|8.90E+11|https://i5.walmar...|microsoftsurfacep...|   Microsoft|         RH7-00001|Microsoft Surface...|      Electronics|2015-11-16T00:00:...|2017-09-03T00:00:...|               TRUE|                 2|             5|http://reviews.be...|Coming from mecha...|Best type cover k...|      TopGadgets|https://www.walma...|8.90E+11|1.1 pounds|\n",
      "|AVpf3txeLJeJML43FN82|B0168YIWSI|Microsoft|Electronics,Compu...| Black|2015-11-13T12:28:09Z|2018-01-29T02:15:13Z|11.6 in x 8.5 in ...|8.90E+11|https://i5.walmar...|microsoftsurfacep...|   Microsoft|         RH7-00001|Microsoft Surface...|      Electronics|2015-11-10T00:00:...|2017-09-03T00:00:...|               TRUE|                 2|             4|http://reviews.be...|Keyboard is solid...|      Solid keyboard|         Pod3000|https://www.walma...|8.90E+11|1.1 pounds|\n",
      "+--------------------+----------+---------+--------------------+------+--------------------+--------------------+--------------------+--------+--------------------+--------------------+------------+------------------+--------------------+-----------------+--------------------+--------------------+-------------------+------------------+--------------+--------------------+--------------------+--------------------+----------------+--------------------+--------+----------+\n",
      "only showing top 20 rows\n",
      "\n"
     ]
    }
   ],
   "source": [
    "df_pyspark.show()"
   ]
  },
  {
   "cell_type": "code",
   "execution_count": 5,
   "metadata": {},
   "outputs": [
    {
     "data": {
      "text/plain": [
       "DataFrame[id: string, asins: string, brand: string, categories: string, colors: string, dateAdded: string, dateUpdated: string, dimension: string, ean: string, imageURLs: string, keys: string, manufacturer: string, manufacturerNumber: string, name: string, primaryCategories: string, reviews_date: string, reviews_dateSeen: string, reviews_doRecommend: string, reviews_numHelpful: string, reviews_rating: string, reviews_sourceURLs: string, reviews_text: string, reviews_title: string, reviews_username: string, sourceURLs: string, upc: string, weight: string]"
      ]
     },
     "execution_count": 5,
     "metadata": {},
     "output_type": "execute_result"
    }
   ],
   "source": [
    "spark.read.option('header','true').csv('DatafinitiElectronicsProductData.csv')"
   ]
  },
  {
   "cell_type": "code",
   "execution_count": 6,
   "metadata": {},
   "outputs": [],
   "source": [
    "df2=spark.read.option('header','true').csv('DatafinitiElectronicsProductData.csv',inferSchema=True)"
   ]
  },
  {
   "cell_type": "code",
   "execution_count": 7,
   "metadata": {},
   "outputs": [
    {
     "name": "stdout",
     "output_type": "stream",
     "text": [
      "root\n",
      " |-- id: string (nullable = true)\n",
      " |-- asins: string (nullable = true)\n",
      " |-- brand: string (nullable = true)\n",
      " |-- categories: string (nullable = true)\n",
      " |-- colors: string (nullable = true)\n",
      " |-- dateAdded: timestamp (nullable = true)\n",
      " |-- dateUpdated: timestamp (nullable = true)\n",
      " |-- dimension: string (nullable = true)\n",
      " |-- ean: double (nullable = true)\n",
      " |-- imageURLs: string (nullable = true)\n",
      " |-- keys: string (nullable = true)\n",
      " |-- manufacturer: string (nullable = true)\n",
      " |-- manufacturerNumber: string (nullable = true)\n",
      " |-- name: string (nullable = true)\n",
      " |-- primaryCategories: string (nullable = true)\n",
      " |-- reviews_date: timestamp (nullable = true)\n",
      " |-- reviews_dateSeen: string (nullable = true)\n",
      " |-- reviews_doRecommend: boolean (nullable = true)\n",
      " |-- reviews_numHelpful: integer (nullable = true)\n",
      " |-- reviews_rating: integer (nullable = true)\n",
      " |-- reviews_sourceURLs: string (nullable = true)\n",
      " |-- reviews_text: string (nullable = true)\n",
      " |-- reviews_title: string (nullable = true)\n",
      " |-- reviews_username: string (nullable = true)\n",
      " |-- sourceURLs: string (nullable = true)\n",
      " |-- upc: string (nullable = true)\n",
      " |-- weight: string (nullable = true)\n",
      "\n"
     ]
    }
   ],
   "source": [
    "df2.printSchema()"
   ]
  },
  {
   "cell_type": "code",
   "execution_count": 8,
   "metadata": {},
   "outputs": [
    {
     "data": {
      "text/plain": [
       "pyspark.sql.dataframe.DataFrame"
      ]
     },
     "execution_count": 8,
     "metadata": {},
     "output_type": "execute_result"
    }
   ],
   "source": [
    "type(df2)"
   ]
  },
  {
   "cell_type": "code",
   "execution_count": 9,
   "metadata": {},
   "outputs": [
    {
     "data": {
      "text/plain": [
       "['id',\n",
       " 'asins',\n",
       " 'brand',\n",
       " 'categories',\n",
       " 'colors',\n",
       " 'dateAdded',\n",
       " 'dateUpdated',\n",
       " 'dimension',\n",
       " 'ean',\n",
       " 'imageURLs',\n",
       " 'keys',\n",
       " 'manufacturer',\n",
       " 'manufacturerNumber',\n",
       " 'name',\n",
       " 'primaryCategories',\n",
       " 'reviews_date',\n",
       " 'reviews_dateSeen',\n",
       " 'reviews_doRecommend',\n",
       " 'reviews_numHelpful',\n",
       " 'reviews_rating',\n",
       " 'reviews_sourceURLs',\n",
       " 'reviews_text',\n",
       " 'reviews_title',\n",
       " 'reviews_username',\n",
       " 'sourceURLs',\n",
       " 'upc',\n",
       " 'weight']"
      ]
     },
     "execution_count": 9,
     "metadata": {},
     "output_type": "execute_result"
    }
   ],
   "source": [
    "df2.columns"
   ]
  },
  {
   "cell_type": "code",
   "execution_count": 10,
   "metadata": {},
   "outputs": [
    {
     "data": {
      "text/plain": [
       "[Row(id='AVpf3txeLJeJML43FN82', asins='B0168YIWSI', brand='Microsoft', categories='Electronics,Computers,Computer Accessories,Keyboards, Mice & Joysticks,Keyboards,All Keyboards,Computers & Accessories,Computer Accessories & Peripherals,Keyboards, Mice & Accessories,Computers & Tablets,iPad & Tablet Accessories,Tablet Cases, Covers & Keyboard Folios,Computer Peripherals,Keyboards Accessories,Computers Features,Cases, Covers & Keyboard Folios,Name Brands,Microsoft,Microsoft Surface,Microsoft Surface Accessories,Microsoft Surface Cases & Covers,Microsoft Surface Tablets,Frys,Tablets,Cases', colors='Black', dateAdded=datetime.datetime(2015, 11, 13, 7, 28, 9), dateUpdated=datetime.datetime(2018, 1, 28, 21, 15, 13), dimension='11.6 in x 8.5 in x 0.19 in', ean=890000000000.0, imageURLs='https://i5.walmartimages.com/asr/2a41f6f0-844e-4ace-b7e3-63faef991173_1.2179afeb48142c34d2c84adf91b42b02.jpeg?odnHeight=450&odnWidth=450&odnBg=FFFFFF,https://i5.walmartimages.com/asr/c4308cf0-7504-4e04-a058-c6813b71f355_1.3495db4167a1899dab6700fdc26873e4.jpeg?odnHeight=450&odnWidth=450&odnBg=FFFFFF,https://i5.walmartimages.com/asr/e6891167-1e14-4065-a2ac-7caae27eff0e_1.6c44a72985e433683d3fd9e275aae51d.jpeg?odnHeight=450&odnWidth=450&odnBg=FFFFFF,https://i5.walmartimages.com/asr/06a6725e-9f60-4c1e-8b9e-800f4e1b37b6_1.4d89206b740350ff08f68c302a6c3766.jpeg?odnHeight=450&odnWidth=450&odnBg=FFFFFF,https://i5.walmartimages.com/asr/2bf30602-2d72-4322-a031-1f6b96490fdb_1.34227fb5d0665200f28d282f66cb1c44.jpeg?odnHeight=450&odnWidth=450&odnBg=FFFFFF,https://images-na.ssl-images-amazon.com/images/I/61C2lYnfHNL._SL1000_.jpg,https://images-na.ssl-images-amazon.com/images/I/41uj2RoSvVL._SL1000_.jpg,https://images-na.ssl-images-amazon.com/images/I/511y4WjVhBL._SL1000_.jpg,https://images-na.ssl-images-amazon.com/images/I/511ONk1ZiNL._SL1000_.jpg,https://images-na.ssl-images-amazon.com/images/I/41GFiLfm8KL._SL1000_.jpg,https://pisces.bbystatic.com/image2/BestBuy_US/images/products/4562/4562009_sa.jpg,https://i5.walmartimages.com/asr/505d2520-5276-49a3-b88f-979afb480d7a_1.6aed053b029ec373ce7030418ecafce2.jpeg?odnHeight=450&odnWidth=450&odnBg=FFFFFF,https://i5.walmartimages.com/asr/1868aee8-d107-4b31-bb20-329063d5fdc6_1.c79adfe26d16a447b48984b8a06251ff.jpeg?odnHeight=450&odnWidth=450&odnBg=FFFFFF,https://i5.walmartimages.com/asr/bd468836-1da2-4f3c-a754-38506807db49_1.0b428a6611b2af4aba06814ffa10fdcd.jpeg?odnHeight=450&odnWidth=450&odnBg=FFFFFF,https://i5.walmartimages.com/asr/f81b84c9-c000-4a2c-a6a2-a80039c14b18_1.502d1ce0283b5a6c0508c95f5d480bc4.jpeg?odnHeight=450&odnWidth=450&odnBg=FFFFFF,https://images-na.ssl-images-amazon.com/images/I/41X1El9m6wL.jpg,https://www.barcodable.com/images/barcode/0889842011050.png,https://static.bhphoto.com/images/itemImgPlaceholder.jpg,https://static.bhphoto.com/images/images500x500/microsoft_rh7_00001_surface_pro_4_type_1445016092000_1188746.jpg,http://pisces.bbystatic.com/image2/BestBuy_US/images/products/4562/4562009_sa.jpg,http://images.frys.com/art/product/box_shots/8639000.box.GIF', keys='microsoftsurfacepro4typecoverwithfingerprintid/4562009,microsoftsurfacepro4typecoverwithfingerprintid/554687153,889842011050,0889842011050,microsoftsurfacepro4typecoverwithfingerprintid/mirh700001,microsoftsurfacepro4typecoverwithfingerprintid/n82e16834735100,microsoftsurfacepro4typecoverwithfingerprintid/b0168yiwsi,microsoft/rh700001', manufacturer='Microsoft', manufacturerNumber='RH7-00001', name='Microsoft Surface Pro 4 Type Cover with Fingerprint ID', primaryCategories='Electronics', reviews_date=datetime.datetime(2015, 12, 3, 19, 0), reviews_dateSeen='2017-09-03T00:00:00Z,2017-08-27T00:00:00Z,2017-08-06T00:00:00Z,2017-08-19T00:00:00Z,2017-03-23T00:00:00Z,2016-02-25T00:00:00Z,2017-05-06T00:00:00Z,2017-04-30T00:00:00Z,2017-06-07T00:00:00Z', reviews_doRecommend=True, reviews_numHelpful=0, reviews_rating=5, reviews_sourceURLs='http://reviews.bestbuy.com/3545/4562009/reviews.htm?format=embedded&page=51,http://reviews.bestbuy.com/3545/4562009/reviews.htm?format=embedded&page=50,http://reviews.bestbuy.com/3545/4562009/reviews.htm?format=embedded&page=49,http://reviews.bestbuy.com/3545/4562009/reviews.htm?format=embedded&page=41,http://reviews.bestbuy.com/3545/4562009/reviews.htm?format=embedded&page=11,http://reviews.bestbuy.com/3545/4562009/reviews.htm?format=embedded&page=8,http://reviews.bestbuy.com/3545/4562009/reviews.htm?format=embedded&page=43,http://reviews.bestbuy.com/3545/4562009/reviews.htm?format=embedded&page=45', reviews_text='This keyboard is very easy to type on, but the fingerprint reader is the best feature. It is very accurate and simplifies login.', reviews_title='Love the fingerprint reader', reviews_username='JNH1', sourceURLs='https://www.walmart.com/ip/Microsoft-Surface-Pro-4-Type-Cover-with-Fingerprint-ID/47167973,https://www.amazon.com/Microsoft-Surface-Cover-Fingerprint-Black/dp/B0168YIWSI/,https://www.bestbuy.com/site/microsoft-surface-pro-type-cover-with-fingerprint-id-black/4562009.p?skuId=4562009,http://reviews.bestbuy.com/3545/4562009/reviews.htm?format=embedded&page=51,http://reviews.bestbuy.com/3545/4562009/reviews.htm?format=embedded&page=43,http://reviews.bestbuy.com/3545/4562009/reviews.htm?format=embedded&page=53,http://reviews.bestbuy.com/3545/4562009/reviews.htm?format=embedded&page=52,http://reviews.bestbuy.com/3545/4562009/reviews.htm?format=embedded&page=44,http://reviews.bestbuy.com/3545/4562009/reviews.htm?format=embedded&page=49,http://reviews.bestbuy.com/3545/4562009/reviews.htm?format=embedded&page=46,http://reviews.bestbuy.com/3545/4562009/reviews.htm?format=embedded&page=45,http://reviews.bestbuy.com/3545/4562009/reviews.htm?format=embedded&page=50,http://reviews.bestbuy.com/3545/4562009/reviews.htm?format=embedded&page=47,http://reviews.bestbuy.com/3545/4562009/reviews.htm?format=embedded&page=48,http://reviews.bestbuy.com/3545/4562009/reviews.htm?format=embedded&page=33,http://reviews.bestbuy.com/3545/4562009/reviews.htm?format=embedded&page=42,http://reviews.bestbuy.com/3545/4562009/reviews.htm?format=embedded&page=40,http://reviews.bestbuy.com/3545/4562009/reviews.htm?format=embedded&page=39,http://reviews.bestbuy.com/3545/4562009/reviews.htm?format=embedded&page=41,http://reviews.bestbuy.com/3545/4562009/reviews.htm?format=embedded&page=38,http://reviews.bestbuy.com/3545/4562009/reviews.htm?format=embedded&page=31,http://reviews.bestbuy.com/3545/4562009/reviews.htm?format=embedded&page=37,http://reviews.bestbuy.com/3545/4562009/reviews.htm?format=embedded&page=36,http://reviews.bestbuy.com/3545/4562009/reviews.htm?format=embedded&page=32,http://reviews.bestbuy.com/3545/4562009/reviews.htm?format=embedded&page=35,http://reviews.bestbuy.com/3545/4562009/reviews.htm?format=embedded&page=34,http://reviews.bestbuy.com/3545/4562009/reviews.htm?format=embedded&page=30,http://reviews.bestbuy.com/3545/4562009/reviews.htm?format=embedded&page=25,http://reviews.bestbuy.com/3545/4562009/reviews.htm?format=embedded&page=26,http://reviews.bestbuy.com/3545/4562009/reviews.htm?format=embedded&page=29,http://reviews.bestbuy.com/3545/4562009/reviews.htm?format=embedded&page=28,http://reviews.bestbuy.com/3545/4562009/reviews.htm?format=embedded&page=22,http://reviews.bestbuy.com/3545/4562009/reviews.htm?format=embedded&page=24,http://reviews.bestbuy.com/3545/4562009/reviews.htm?format=embedded&page=23,http://reviews.bestbuy.com/3545/4562009/reviews.htm?format=embedded&page=21,http://reviews.bestbuy.com/3545/4562009/reviews.htm?format=embedded&page=27,http://reviews.bestbuy.com/3545/4562009/reviews.htm?format=embedded&page=20,http://reviews.bestbuy.com/3545/4562009/reviews.htm?format=embedded&page=19,http://reviews.bestbuy.com/3545/4562009/reviews.htm?format=embedded&page=16,http://reviews.bestbuy.com/3545/4562009/reviews.htm?format=embedded&page=15,http://reviews.bestbuy.com/3545/4562009/reviews.htm?format=embedded&page=17,http://reviews.bestbuy.com/3545/4562009/reviews.htm?format=embedded&page=9,http://reviews.bestbuy.com/3545/4562009/reviews.htm?format=embedded&page=18,http://reviews.bestbuy.com/3545/4562009/reviews.htm?format=embedded&page=11,http://reviews.bestbuy.com/3545/4562009/reviews.htm?format=embedded&page=12,http://reviews.bestbuy.com/3545/4562009/reviews.htm?format=embedded&page=13,http://reviews.bestbuy.com/3545/4562009/reviews.htm?format=embedded&page=10,http://reviews.bestbuy.com/3545/4562009/reviews.htm?format=embedded&page=14,http://reviews.bestbuy.com/3545/4562009/reviews.htm?format=embedded&page=6,http://reviews.bestbuy.com/3545/4562009/reviews.htm?format=embedded&page=3,http://reviews.bestbuy.com/3545/4562009/reviews.htm?format=embedded&page=8,http://reviews.bestbuy.com/3545/4562009/reviews.htm?format=embedded&page=4,http://reviews.bestbuy.com/3545/4562009/reviews.htm?format=embedded&page=5,http://reviews.bestbuy.com/3545/4562009/reviews.htm?format=embedded&page=7,http://reviews.bestbuy.com/3545/4562009/reviews.htm?format=embedded&page=2,http://reviews.bestbuy.com/3545/4562009/reviews.htm?format=embedded,https://www.barcodable.com/upc/889842011050,https://www.bhphotovideo.com/c/product/1188746-REG/microsoft_rh7_00001_surface_pro_4_type.html,https://www.walmart.com/ip/Microsoft-Surface-Pro-4-Type-Cover-with-Fingerprint-ID-Black/47167973,https://www.walmart.com/reviews/product/47167973?limit=20&sort=relevancy&page=4,https://www.walmart.com/reviews/product/47167973,http://www.bestbuy.com/site/microsoft-surface-pro-type-cover-with-fingerprint-id-black/4562009.p?skuId=4562009,https://www.walmart.com/reviews/product/47167973?limit=20&sort=relevancy&page=2,https://www.amazon.com/Microsoft-Surface-Cover-Fingerprint-Black/dp/B01E3Q2H6G,https://www.walmart.com/reviews/product/47167973?limit=20&sort=relevancy&page=3,http://frys.com/product/8639000,http://frys.com/product/8639000?site=sr:SEARCH:MAIN_RSLT_PG,https://www.amazon.com/Microsoft-Surface-Cover-Fingerprint-Black/dp/B0168YIWSI,http://www.amazon.com/product-reviews/B0168YIWSI/,http://www.amazon.com/Microsoft-Surface-Cover-Fingerprint-Black/dp/B0168YIWSI,http://www.bestbuy.com/site/microsoft-surface-pro-type-cover-with-fingerprint-id-black/4562009.p?id=bb4562009&skuId=4562009#tabbed-customerreviews,http://www.bestbuy.com/site/microsoft-surface-pro-type-cover-with-fingerprint-id-black/4562009.p?id=bb4562009&skuId=4562009,http://www.bestbuy.com/site/microsoft-surface-pro-type-cover-with-fingerprint-id-black/4562009.p?id=bb4562009&skuId=4562009#tab=buyingOptions?bof=openbox,http://www.bestbuy.com/site/microsoft-surface-pro-type-cover-with-fingerprint-id-black/4562009.p?id=bb4562009&skuId=4562009&reviewsPage=2,http://www.bestbuy.com/site/olspage.jsp;jsessionid=DB10B7324359B034F2805C27203FF931.bbolsp-app04-172?skuId=4562009&type=product&id=bb4562009', upc='8.90E+11', weight='1.1 pounds')]"
      ]
     },
     "execution_count": 10,
     "metadata": {},
     "output_type": "execute_result"
    }
   ],
   "source": [
    "df2.head(1)"
   ]
  },
  {
   "cell_type": "code",
   "execution_count": 11,
   "metadata": {},
   "outputs": [
    {
     "data": {
      "text/plain": [
       "DataFrame[weight: string]"
      ]
     },
     "execution_count": 11,
     "metadata": {},
     "output_type": "execute_result"
    }
   ],
   "source": [
    "df2.select('weight')"
   ]
  },
  {
   "cell_type": "code",
   "execution_count": 12,
   "metadata": {},
   "outputs": [],
   "source": [
    "df_trim=df2.select('asins','brand','categories','colors','dateAdded','dateUpdated','dimension','ean','id','keys','manufacturer', 'manufacturerNumber', 'name', 'primaryCategories', 'reviews_dateSeen', 'reviews_doRecommend', 'reviews_numHelpful','reviews_date','reviews_rating', 'reviews_text', 'reviews_title', 'reviews_username', 'upc', 'weight')"
   ]
  },
  {
   "cell_type": "code",
   "execution_count": 9,
   "metadata": {},
   "outputs": [
    {
     "name": "stdout",
     "output_type": "stream",
     "text": [
      "+----------+---------+--------------------+------+-------------------+-------------------+--------------------+------+--------------------+--------------------+------------+------------------+--------------------+-----------------+--------------------+-------------------+------------------+-------------------+--------------+--------------------+--------------------+----------------+--------+----------+\n",
      "|     asins|    brand|          categories|colors|          dateAdded|        dateUpdated|           dimension|   ean|                  id|                keys|manufacturer|manufacturerNumber|                name|primaryCategories|    reviews_dateSeen|reviews_doRecommend|reviews_numHelpful|       reviews_date|reviews_rating|        reviews_text|       reviews_title|reviews_username|     upc|    weight|\n",
      "+----------+---------+--------------------+------+-------------------+-------------------+--------------------+------+--------------------+--------------------+------------+------------------+--------------------+-----------------+--------------------+-------------------+------------------+-------------------+--------------+--------------------+--------------------+----------------+--------+----------+\n",
      "|B0168YIWSI|Microsoft|Electronics,Compu...| Black|2015-11-13 07:28:09|2018-01-28 21:15:13|11.6 in x 8.5 in ...|8.9E11|AVpf3txeLJeJML43FN82|microsoftsurfacep...|   Microsoft|         RH7-00001|Microsoft Surface...|      Electronics|2017-09-03T00:00:...|               true|                 0|2015-12-03 19:00:00|             5|This keyboard is ...|Love the fingerpr...|            JNH1|8.90E+11|1.1 pounds|\n",
      "|B0168YIWSI|Microsoft|Electronics,Compu...| Black|2015-11-13 07:28:09|2018-01-28 21:15:13|11.6 in x 8.5 in ...|8.9E11|AVpf3txeLJeJML43FN82|microsoftsurfacep...|   Microsoft|         RH7-00001|Microsoft Surface...|      Electronics|2017-09-03T00:00:...|               true|                 0|2015-12-03 19:00:00|             4|It's thin and lig...|                Nice|            Appa|8.90E+11|1.1 pounds|\n",
      "|B0168YIWSI|Microsoft|Electronics,Compu...| Black|2015-11-13 07:28:09|2018-01-28 21:15:13|11.6 in x 8.5 in ...|8.9E11|AVpf3txeLJeJML43FN82|microsoftsurfacep...|   Microsoft|         RH7-00001|Microsoft Surface...|      Electronics|2017-09-03T00:00:...|               true|                 0|2015-12-03 19:00:00|             4|I love the new de...|                 New|            Kman|8.90E+11|1.1 pounds|\n",
      "|B0168YIWSI|Microsoft|Electronics,Compu...| Black|2015-11-13 07:28:09|2018-01-28 21:15:13|11.6 in x 8.5 in ...|8.9E11|AVpf3txeLJeJML43FN82|microsoftsurfacep...|   Microsoft|         RH7-00001|Microsoft Surface...|      Electronics|2017-09-03T00:00:...|               true|                 0|2015-11-30 19:00:00|             5|Attached easily a...|       Nice keyboard|       UpstateNY|8.90E+11|1.1 pounds|\n",
      "|B0168YIWSI|Microsoft|Electronics,Compu...| Black|2015-11-13 07:28:09|2018-01-28 21:15:13|11.6 in x 8.5 in ...|8.9E11|AVpf3txeLJeJML43FN82|microsoftsurfacep...|   Microsoft|         RH7-00001|Microsoft Surface...|      Electronics|2017-09-03T00:00:...|               true|                 0|2015-11-27 19:00:00|             5|Our original keyb...|    Nice improvement|       Glickster|8.90E+11|1.1 pounds|\n",
      "|B0168YIWSI|Microsoft|Electronics,Compu...| Black|2015-11-13 07:28:09|2018-01-28 21:15:13|11.6 in x 8.5 in ...|8.9E11|AVpf3txeLJeJML43FN82|microsoftsurfacep...|   Microsoft|         RH7-00001|Microsoft Surface...|      Electronics|2017-09-03T00:00:...|               true|                 0|2015-11-27 19:00:00|             5|purchased to repl...|     big improvement|      gjohnsonxc|8.90E+11|1.1 pounds|\n",
      "|B0168YIWSI|Microsoft|Electronics,Compu...| Black|2015-11-13 07:28:09|2018-01-28 21:15:13|11.6 in x 8.5 in ...|8.9E11|AVpf3txeLJeJML43FN82|microsoftsurfacep...|   Microsoft|         RH7-00001|Microsoft Surface...|      Electronics|2017-09-03T00:00:...|               true|                 0|2015-11-26 19:00:00|             4|I find it very co...|  Perfect type cover|         nakulrk|8.90E+11|1.1 pounds|\n",
      "|B0168YIWSI|Microsoft|Electronics,Compu...| Black|2015-11-13 07:28:09|2018-01-28 21:15:13|11.6 in x 8.5 in ...|8.9E11|AVpf3txeLJeJML43FN82|microsoftsurfacep...|   Microsoft|         RH7-00001|Microsoft Surface...|      Electronics|2017-09-03T00:00:...|              false|                 0|2015-11-26 19:00:00|             3|Good Keyboard and...|       Good Keyboard|           Angie|8.90E+11|1.1 pounds|\n",
      "|B0168YIWSI|Microsoft|Electronics,Compu...| Black|2015-11-13 07:28:09|2018-01-28 21:15:13|11.6 in x 8.5 in ...|8.9E11|AVpf3txeLJeJML43FN82|microsoftsurfacep...|   Microsoft|         RH7-00001|Microsoft Surface...|      Electronics|2017-09-03T00:00:...|               true|                 0|2016-02-04 19:00:00|             4|tough getting it ...|    nice improvement|        papabear|8.90E+11|1.1 pounds|\n",
      "|B0168YIWSI|Microsoft|Electronics,Compu...| Black|2015-11-13 07:28:09|2018-01-28 21:15:13|11.6 in x 8.5 in ...|8.9E11|AVpf3txeLJeJML43FN82|microsoftsurfacep...|   Microsoft|         RH7-00001|Microsoft Surface...|      Electronics|2017-09-03T00:00:...|               true|                 0|2016-02-04 19:00:00|             5|I can now quickly...|Fingerprint Scann...|         A199578|8.90E+11|1.1 pounds|\n",
      "|B0168YIWSI|Microsoft|Electronics,Compu...| Black|2015-11-13 07:28:09|2018-01-28 21:15:13|11.6 in x 8.5 in ...|8.9E11|AVpf3txeLJeJML43FN82|microsoftsurfacep...|   Microsoft|         RH7-00001|Microsoft Surface...|      Electronics|2017-09-03T00:00:...|               true|                 0|2016-02-04 19:00:00|             5|A must have acces...|           Must have|     hooverlover|8.90E+11|1.1 pounds|\n",
      "|B0168YIWSI|Microsoft|Electronics,Compu...| Black|2015-11-13 07:28:09|2018-01-28 21:15:13|11.6 in x 8.5 in ...|8.9E11|AVpf3txeLJeJML43FN82|microsoftsurfacep...|   Microsoft|         RH7-00001|Microsoft Surface...|      Electronics|2017-09-03T00:00:...|              false|                 0|2016-02-04 19:00:00|             4|Fingerprint scann...| not worth the price|          lundi3|8.90E+11|1.1 pounds|\n",
      "|B0168YIWSI|Microsoft|Electronics,Compu...| Black|2015-11-13 07:28:09|2018-01-28 21:15:13|11.6 in x 8.5 in ...|8.9E11|AVpf3txeLJeJML43FN82|microsoftsurfacep...|   Microsoft|         RH7-00001|Microsoft Surface...|      Electronics|2017-09-03T00:00:...|               true|                 0|2016-02-04 19:00:00|             4|The keyboard feel...|Great keyboard; g...|          mevans|8.90E+11|1.1 pounds|\n",
      "|B0168YIWSI|Microsoft|Electronics,Compu...| Black|2015-11-13 07:28:09|2018-01-28 21:15:13|11.6 in x 8.5 in ...|8.9E11|AVpf3txeLJeJML43FN82|microsoftsurfacep...|   Microsoft|         RH7-00001|Microsoft Surface...|      Electronics|2017-09-03T00:00:...|               true|                 0|2016-02-01 19:00:00|             4|I really like the...|Keyboard very smo...|          Looloo|8.90E+11|1.1 pounds|\n",
      "|B0168YIWSI|Microsoft|Electronics,Compu...| Black|2015-11-13 07:28:09|2018-01-28 21:15:13|11.6 in x 8.5 in ...|8.9E11|AVpf3txeLJeJML43FN82|microsoftsurfacep...|   Microsoft|         RH7-00001|Microsoft Surface...|      Electronics|2017-09-03T00:00:...|               true|                 0|2016-01-30 19:00:00|             4|Good product but ...|              Pricey|           kooah|8.90E+11|1.1 pounds|\n",
      "|B0168YIWSI|Microsoft|Electronics,Compu...| Black|2015-11-13 07:28:09|2018-01-28 21:15:13|11.6 in x 8.5 in ...|8.9E11|AVpf3txeLJeJML43FN82|microsoftsurfacep...|   Microsoft|         RH7-00001|Microsoft Surface...|      Electronics|2017-09-03T00:00:...|               true|                 0|2016-01-30 19:00:00|             5|Best keyboard. A ...|              a must|           kbrei|8.90E+11|1.1 pounds|\n",
      "|B0168YIWSI|Microsoft|Electronics,Compu...| Black|2015-11-13 07:28:09|2018-01-28 21:15:13|11.6 in x 8.5 in ...|8.9E11|AVpf3txeLJeJML43FN82|microsoftsurfacep...|   Microsoft|         RH7-00001|Microsoft Surface...|      Electronics|2017-09-03T00:00:...|               true|                 2|2015-11-19 19:00:00|             5|Keyboard works pe...|     Great Keyboard!|     LovetoSleep|8.90E+11|1.1 pounds|\n",
      "|B0168YIWSI|Microsoft|Electronics,Compu...| Black|2015-11-13 07:28:09|2018-01-28 21:15:13|11.6 in x 8.5 in ...|8.9E11|AVpf3txeLJeJML43FN82|microsoftsurfacep...|   Microsoft|         RH7-00001|Microsoft Surface...|      Electronics|2017-09-03T00:00:...|               true|                 2|2015-11-15 19:00:00|             5|Coming from mecha...|Best type cover k...|      TopGadgets|8.90E+11|1.1 pounds|\n",
      "|B0168YIWSI|Microsoft|Electronics,Compu...| Black|2015-11-13 07:28:09|2018-01-28 21:15:13|11.6 in x 8.5 in ...|8.9E11|AVpf3txeLJeJML43FN82|microsoftsurfacep...|   Microsoft|         RH7-00001|Microsoft Surface...|      Electronics|2017-09-03T00:00:...|               true|                 2|2015-11-09 19:00:00|             4|Keyboard is solid...|      Solid keyboard|         Pod3000|8.90E+11|1.1 pounds|\n",
      "|B0168YIWSI|Microsoft|Electronics,Compu...| Black|2015-11-13 07:28:09|2018-01-28 21:15:13|11.6 in x 8.5 in ...|8.9E11|AVpf3txeLJeJML43FN82|microsoftsurfacep...|   Microsoft|         RH7-00001|Microsoft Surface...|      Electronics|2017-09-03T00:00:...|               true|                 4|2015-11-05 19:00:00|             5|I did not get the...|This is a start t...|         mpussah|8.90E+11|1.1 pounds|\n",
      "+----------+---------+--------------------+------+-------------------+-------------------+--------------------+------+--------------------+--------------------+------------+------------------+--------------------+-----------------+--------------------+-------------------+------------------+-------------------+--------------+--------------------+--------------------+----------------+--------+----------+\n",
      "only showing top 20 rows\n",
      "\n"
     ]
    }
   ],
   "source": [
    "df_trim.show()"
   ]
  },
  {
   "cell_type": "code",
   "execution_count": 13,
   "metadata": {},
   "outputs": [
    {
     "data": {
      "text/plain": [
       "[('asins', 'string'),\n",
       " ('brand', 'string'),\n",
       " ('categories', 'string'),\n",
       " ('colors', 'string'),\n",
       " ('dateAdded', 'timestamp'),\n",
       " ('dateUpdated', 'timestamp'),\n",
       " ('dimension', 'string'),\n",
       " ('ean', 'double'),\n",
       " ('id', 'string'),\n",
       " ('keys', 'string'),\n",
       " ('manufacturer', 'string'),\n",
       " ('manufacturerNumber', 'string'),\n",
       " ('name', 'string'),\n",
       " ('primaryCategories', 'string'),\n",
       " ('reviews_dateSeen', 'string'),\n",
       " ('reviews_doRecommend', 'boolean'),\n",
       " ('reviews_numHelpful', 'int'),\n",
       " ('reviews_date', 'timestamp'),\n",
       " ('reviews_rating', 'int'),\n",
       " ('reviews_text', 'string'),\n",
       " ('reviews_title', 'string'),\n",
       " ('reviews_username', 'string'),\n",
       " ('upc', 'string'),\n",
       " ('weight', 'string')]"
      ]
     },
     "execution_count": 13,
     "metadata": {},
     "output_type": "execute_result"
    }
   ],
   "source": [
    "df_trim.dtypes"
   ]
  },
  {
   "cell_type": "code",
   "execution_count": 19,
   "metadata": {},
   "outputs": [
    {
     "name": "stdout",
     "output_type": "stream",
     "text": [
      "+-------+----------+------+--------------------+------+--------------------+--------------------+--------------------+--------------------+------------+-------------------+--------------------+-----------------+--------------------+------------------+------------------+--------------------+--------------------+--------------------+--------------------+--------------------+\n",
      "|summary|     asins| brand|          categories|colors|           dimension|                 ean|                  id|                keys|manufacturer| manufacturerNumber|                name|primaryCategories|    reviews_dateSeen|reviews_numHelpful|    reviews_rating|        reviews_text|       reviews_title|    reviews_username|                 upc|              weight|\n",
      "+-------+----------+------+--------------------+------+--------------------+--------------------+--------------------+--------------------+------------+-------------------+--------------------+-----------------+--------------------+------------------+------------------+--------------------+--------------------+--------------------+--------------------+--------------------+\n",
      "|  count|      7299|  7299|                7299|  5280|                6090|                2951|                7299|                7299|        4632|               7299|                7299|             7299|                7299|              5813|              7135|                7294|                7295|                7299|                7299|                7299|\n",
      "|   mean|      null|  null|                null|  null|                null|2.986492086405496E11|                null|                null|        null|               null|                null|             null|                null|0.7467744710132461| 4.371969166082691|                null|                null|  2019759.9333333333|3.873557917192956...| 4.34575408081825E11|\n",
      "| stddev|      null|  null|                null|  null|                null|3.385509893444047E11|                null|                null|        null|               null|                null|             null|                null|3.4202458834400344|1.0385608366043664|                null|                null|   5702327.296105717|3.684267138815319E11|3.754436205323157...|\n",
      "|    min|B00009WCBT|Alpine|Accessories,Porta...| Black|0.75 in x 3.25 in...|     2.7108105321E10|AV13V_i2glJLPUi8PFgb|0027242896000,son...|     5 Years|         41IK5BT2V2|\"Alpine - 6-1/2\"\"...|      Electronics|2014-10-22T00:00:00Z|                 0|                 1|!!!!!DO NOT BUY I...| \"\"Whatch DVD\"\" e...| \"\"Device connect...|             Blu-ray| & decided on the...|\n",
      "|    max|B075WKS4D8|Yamaha|stone products,el...| White|9.2 x 7.6 x 5.2 i...|              8.9E11|AWIm0C3TYSSHbkXwx3S6|yamaha40wmicrocom...|       iHome|XPS8920-7529SLV-PUS|iHome Rechargeabl...|      Electronics|2018-05-27T00:00:...|               128|                 5|yamaha 5.1 speake...|you need to hold ...|                zznj|               wNg11|             scapula|\n",
      "+-------+----------+------+--------------------+------+--------------------+--------------------+--------------------+--------------------+------------+-------------------+--------------------+-----------------+--------------------+------------------+------------------+--------------------+--------------------+--------------------+--------------------+--------------------+\n",
      "\n"
     ]
    }
   ],
   "source": [
    "df_trim.describe().show()\n"
   ]
  },
  {
   "cell_type": "code",
   "execution_count": 15,
   "metadata": {},
   "outputs": [],
   "source": [
    "#drop any rows which has atleast one null\n",
    "df_nonulla=df_trim.na.drop(how='any',subset='reviews_doRecommend')\n",
    "\n"
   ]
  },
  {
   "cell_type": "code",
   "execution_count": 16,
   "metadata": {},
   "outputs": [],
   "source": [
    "df_nonull=df_nonulla.na.fill('0','reviews_numHelpful')"
   ]
  },
  {
   "cell_type": "code",
   "execution_count": 12,
   "metadata": {},
   "outputs": [],
   "source": [
    "##df_nonull.write.csv(\"project.csv\",mode='append')\n",
    "df_nonull.toPandas().to_csv('project.csv')"
   ]
  },
  {
   "cell_type": "code",
   "execution_count": 17,
   "metadata": {
    "scrolled": true
   },
   "outputs": [
    {
     "name": "stdout",
     "output_type": "stream",
     "text": [
      "+----------+---------+--------------------+------+-------------------+-------------------+--------------------+------+--------------------+--------------------+------------+------------------+--------------------+-----------------+--------------------+-------------------+------------------+-------------------+--------------+--------------------+--------------------+----------------+--------+----------+\n",
      "|     asins|    brand|          categories|colors|          dateAdded|        dateUpdated|           dimension|   ean|                  id|                keys|manufacturer|manufacturerNumber|                name|primaryCategories|    reviews_dateSeen|reviews_doRecommend|reviews_numHelpful|       reviews_date|reviews_rating|        reviews_text|       reviews_title|reviews_username|     upc|    weight|\n",
      "+----------+---------+--------------------+------+-------------------+-------------------+--------------------+------+--------------------+--------------------+------------+------------------+--------------------+-----------------+--------------------+-------------------+------------------+-------------------+--------------+--------------------+--------------------+----------------+--------+----------+\n",
      "|B0168YIWSI|Microsoft|Electronics,Compu...| Black|2015-11-13 07:28:09|2018-01-28 21:15:13|11.6 in x 8.5 in ...|8.9E11|AVpf3txeLJeJML43FN82|microsoftsurfacep...|   Microsoft|         RH7-00001|Microsoft Surface...|      Electronics|2017-09-03T00:00:...|               true|                 0|2015-12-03 19:00:00|             5|This keyboard is ...|Love the fingerpr...|            JNH1|8.90E+11|1.1 pounds|\n",
      "|B0168YIWSI|Microsoft|Electronics,Compu...| Black|2015-11-13 07:28:09|2018-01-28 21:15:13|11.6 in x 8.5 in ...|8.9E11|AVpf3txeLJeJML43FN82|microsoftsurfacep...|   Microsoft|         RH7-00001|Microsoft Surface...|      Electronics|2017-09-03T00:00:...|               true|                 0|2015-12-03 19:00:00|             4|It's thin and lig...|                Nice|            Appa|8.90E+11|1.1 pounds|\n",
      "|B0168YIWSI|Microsoft|Electronics,Compu...| Black|2015-11-13 07:28:09|2018-01-28 21:15:13|11.6 in x 8.5 in ...|8.9E11|AVpf3txeLJeJML43FN82|microsoftsurfacep...|   Microsoft|         RH7-00001|Microsoft Surface...|      Electronics|2017-09-03T00:00:...|               true|                 0|2015-12-03 19:00:00|             4|I love the new de...|                 New|            Kman|8.90E+11|1.1 pounds|\n",
      "|B0168YIWSI|Microsoft|Electronics,Compu...| Black|2015-11-13 07:28:09|2018-01-28 21:15:13|11.6 in x 8.5 in ...|8.9E11|AVpf3txeLJeJML43FN82|microsoftsurfacep...|   Microsoft|         RH7-00001|Microsoft Surface...|      Electronics|2017-09-03T00:00:...|               true|                 0|2015-11-30 19:00:00|             5|Attached easily a...|       Nice keyboard|       UpstateNY|8.90E+11|1.1 pounds|\n",
      "|B0168YIWSI|Microsoft|Electronics,Compu...| Black|2015-11-13 07:28:09|2018-01-28 21:15:13|11.6 in x 8.5 in ...|8.9E11|AVpf3txeLJeJML43FN82|microsoftsurfacep...|   Microsoft|         RH7-00001|Microsoft Surface...|      Electronics|2017-09-03T00:00:...|               true|                 0|2015-11-27 19:00:00|             5|Our original keyb...|    Nice improvement|       Glickster|8.90E+11|1.1 pounds|\n",
      "|B0168YIWSI|Microsoft|Electronics,Compu...| Black|2015-11-13 07:28:09|2018-01-28 21:15:13|11.6 in x 8.5 in ...|8.9E11|AVpf3txeLJeJML43FN82|microsoftsurfacep...|   Microsoft|         RH7-00001|Microsoft Surface...|      Electronics|2017-09-03T00:00:...|               true|                 0|2015-11-27 19:00:00|             5|purchased to repl...|     big improvement|      gjohnsonxc|8.90E+11|1.1 pounds|\n",
      "|B0168YIWSI|Microsoft|Electronics,Compu...| Black|2015-11-13 07:28:09|2018-01-28 21:15:13|11.6 in x 8.5 in ...|8.9E11|AVpf3txeLJeJML43FN82|microsoftsurfacep...|   Microsoft|         RH7-00001|Microsoft Surface...|      Electronics|2017-09-03T00:00:...|               true|                 0|2015-11-26 19:00:00|             4|I find it very co...|  Perfect type cover|         nakulrk|8.90E+11|1.1 pounds|\n",
      "|B0168YIWSI|Microsoft|Electronics,Compu...| Black|2015-11-13 07:28:09|2018-01-28 21:15:13|11.6 in x 8.5 in ...|8.9E11|AVpf3txeLJeJML43FN82|microsoftsurfacep...|   Microsoft|         RH7-00001|Microsoft Surface...|      Electronics|2017-09-03T00:00:...|              false|                 0|2015-11-26 19:00:00|             3|Good Keyboard and...|       Good Keyboard|           Angie|8.90E+11|1.1 pounds|\n",
      "|B0168YIWSI|Microsoft|Electronics,Compu...| Black|2015-11-13 07:28:09|2018-01-28 21:15:13|11.6 in x 8.5 in ...|8.9E11|AVpf3txeLJeJML43FN82|microsoftsurfacep...|   Microsoft|         RH7-00001|Microsoft Surface...|      Electronics|2017-09-03T00:00:...|               true|                 0|2016-02-04 19:00:00|             4|tough getting it ...|    nice improvement|        papabear|8.90E+11|1.1 pounds|\n",
      "|B0168YIWSI|Microsoft|Electronics,Compu...| Black|2015-11-13 07:28:09|2018-01-28 21:15:13|11.6 in x 8.5 in ...|8.9E11|AVpf3txeLJeJML43FN82|microsoftsurfacep...|   Microsoft|         RH7-00001|Microsoft Surface...|      Electronics|2017-09-03T00:00:...|               true|                 0|2016-02-04 19:00:00|             5|I can now quickly...|Fingerprint Scann...|         A199578|8.90E+11|1.1 pounds|\n",
      "|B0168YIWSI|Microsoft|Electronics,Compu...| Black|2015-11-13 07:28:09|2018-01-28 21:15:13|11.6 in x 8.5 in ...|8.9E11|AVpf3txeLJeJML43FN82|microsoftsurfacep...|   Microsoft|         RH7-00001|Microsoft Surface...|      Electronics|2017-09-03T00:00:...|               true|                 0|2016-02-04 19:00:00|             5|A must have acces...|           Must have|     hooverlover|8.90E+11|1.1 pounds|\n",
      "|B0168YIWSI|Microsoft|Electronics,Compu...| Black|2015-11-13 07:28:09|2018-01-28 21:15:13|11.6 in x 8.5 in ...|8.9E11|AVpf3txeLJeJML43FN82|microsoftsurfacep...|   Microsoft|         RH7-00001|Microsoft Surface...|      Electronics|2017-09-03T00:00:...|              false|                 0|2016-02-04 19:00:00|             4|Fingerprint scann...| not worth the price|          lundi3|8.90E+11|1.1 pounds|\n",
      "|B0168YIWSI|Microsoft|Electronics,Compu...| Black|2015-11-13 07:28:09|2018-01-28 21:15:13|11.6 in x 8.5 in ...|8.9E11|AVpf3txeLJeJML43FN82|microsoftsurfacep...|   Microsoft|         RH7-00001|Microsoft Surface...|      Electronics|2017-09-03T00:00:...|               true|                 0|2016-02-04 19:00:00|             4|The keyboard feel...|Great keyboard; g...|          mevans|8.90E+11|1.1 pounds|\n",
      "|B0168YIWSI|Microsoft|Electronics,Compu...| Black|2015-11-13 07:28:09|2018-01-28 21:15:13|11.6 in x 8.5 in ...|8.9E11|AVpf3txeLJeJML43FN82|microsoftsurfacep...|   Microsoft|         RH7-00001|Microsoft Surface...|      Electronics|2017-09-03T00:00:...|               true|                 0|2016-02-01 19:00:00|             4|I really like the...|Keyboard very smo...|          Looloo|8.90E+11|1.1 pounds|\n",
      "|B0168YIWSI|Microsoft|Electronics,Compu...| Black|2015-11-13 07:28:09|2018-01-28 21:15:13|11.6 in x 8.5 in ...|8.9E11|AVpf3txeLJeJML43FN82|microsoftsurfacep...|   Microsoft|         RH7-00001|Microsoft Surface...|      Electronics|2017-09-03T00:00:...|               true|                 0|2016-01-30 19:00:00|             4|Good product but ...|              Pricey|           kooah|8.90E+11|1.1 pounds|\n",
      "|B0168YIWSI|Microsoft|Electronics,Compu...| Black|2015-11-13 07:28:09|2018-01-28 21:15:13|11.6 in x 8.5 in ...|8.9E11|AVpf3txeLJeJML43FN82|microsoftsurfacep...|   Microsoft|         RH7-00001|Microsoft Surface...|      Electronics|2017-09-03T00:00:...|               true|                 0|2016-01-30 19:00:00|             5|Best keyboard. A ...|              a must|           kbrei|8.90E+11|1.1 pounds|\n",
      "|B0168YIWSI|Microsoft|Electronics,Compu...| Black|2015-11-13 07:28:09|2018-01-28 21:15:13|11.6 in x 8.5 in ...|8.9E11|AVpf3txeLJeJML43FN82|microsoftsurfacep...|   Microsoft|         RH7-00001|Microsoft Surface...|      Electronics|2017-09-03T00:00:...|               true|                 0|2015-11-26 19:00:00|             5|This is lightweig...|I love this keybo...|          DeVere|8.90E+11|1.1 pounds|\n",
      "|B0168YIWSI|Microsoft|Electronics,Compu...| Black|2015-11-13 07:28:09|2018-01-28 21:15:13|11.6 in x 8.5 in ...|8.9E11|AVpf3txeLJeJML43FN82|microsoftsurfacep...|   Microsoft|         RH7-00001|Microsoft Surface...|      Electronics|2017-09-03T00:00:...|               true|                 0|2015-11-26 19:00:00|             4|Works with surfac...|          Great feel|           Wcgiv|8.90E+11|1.1 pounds|\n",
      "|B0168YIWSI|Microsoft|Electronics,Compu...| Black|2015-11-13 07:28:09|2018-01-28 21:15:13|11.6 in x 8.5 in ...|8.9E11|AVpf3txeLJeJML43FN82|microsoftsurfacep...|   Microsoft|         RH7-00001|Microsoft Surface...|      Electronics|2017-09-03T00:00:...|               true|                 0|2015-11-26 19:00:00|             5|So far, the keybo...|         Works great|    FLRealEstate|8.90E+11|1.1 pounds|\n",
      "|B0168YIWSI|Microsoft|Electronics,Compu...| Black|2015-11-13 07:28:09|2018-01-28 21:15:13|11.6 in x 8.5 in ...|8.9E11|AVpf3txeLJeJML43FN82|microsoftsurfacep...|   Microsoft|         RH7-00001|Microsoft Surface...|      Electronics|2017-09-03T00:00:...|               true|                 0|2015-11-22 19:00:00|             5|Great keyboard. F...|      Great Keyboard|           Buyer|8.90E+11|1.1 pounds|\n",
      "+----------+---------+--------------------+------+-------------------+-------------------+--------------------+------+--------------------+--------------------+------------+------------------+--------------------+-----------------+--------------------+-------------------+------------------+-------------------+--------------+--------------------+--------------------+----------------+--------+----------+\n",
      "only showing top 20 rows\n",
      "\n"
     ]
    }
   ],
   "source": [
    "df_nonull.filter(df_nonull['reviews_numHelpful']=='0').show()"
   ]
  },
  {
   "cell_type": "code",
   "execution_count": 16,
   "metadata": {},
   "outputs": [
    {
     "name": "stdout",
     "output_type": "stream",
     "text": [
      "+----------+---------+--------------------+------+-------------------+-------------------+--------------------+------+--------------------+--------------------+------------+------------------+--------------------+-----------------+--------------------+-------------------+------------------+-------------------+--------------+--------------------+--------------------+----------------+--------+----------+\n",
      "|     asins|    brand|          categories|colors|          dateAdded|        dateUpdated|           dimension|   ean|                  id|                keys|manufacturer|manufacturerNumber|                name|primaryCategories|    reviews_dateSeen|reviews_doRecommend|reviews_numHelpful|       reviews_date|reviews_rating|        reviews_text|       reviews_title|reviews_username|     upc|    weight|\n",
      "+----------+---------+--------------------+------+-------------------+-------------------+--------------------+------+--------------------+--------------------+------------+------------------+--------------------+-----------------+--------------------+-------------------+------------------+-------------------+--------------+--------------------+--------------------+----------------+--------+----------+\n",
      "|B0168YIWSI|Microsoft|Electronics,Compu...| Black|2015-11-13 07:28:09|2018-01-28 21:15:13|11.6 in x 8.5 in ...|8.9E11|AVpf3txeLJeJML43FN82|microsoftsurfacep...|   Microsoft|         RH7-00001|Microsoft Surface...|      Electronics|2017-09-03T00:00:...|               true|                 0|2015-12-03 19:00:00|             5|This keyboard is ...|Love the fingerpr...|            JNH1|8.90E+11|1.1 pounds|\n",
      "|B0168YIWSI|Microsoft|Electronics,Compu...| Black|2015-11-13 07:28:09|2018-01-28 21:15:13|11.6 in x 8.5 in ...|8.9E11|AVpf3txeLJeJML43FN82|microsoftsurfacep...|   Microsoft|         RH7-00001|Microsoft Surface...|      Electronics|2017-09-03T00:00:...|               true|                 0|2015-12-03 19:00:00|             4|It's thin and lig...|                Nice|            Appa|8.90E+11|1.1 pounds|\n",
      "|B0168YIWSI|Microsoft|Electronics,Compu...| Black|2015-11-13 07:28:09|2018-01-28 21:15:13|11.6 in x 8.5 in ...|8.9E11|AVpf3txeLJeJML43FN82|microsoftsurfacep...|   Microsoft|         RH7-00001|Microsoft Surface...|      Electronics|2017-09-03T00:00:...|               true|                 0|2015-12-03 19:00:00|             4|I love the new de...|                 New|            Kman|8.90E+11|1.1 pounds|\n",
      "|B0168YIWSI|Microsoft|Electronics,Compu...| Black|2015-11-13 07:28:09|2018-01-28 21:15:13|11.6 in x 8.5 in ...|8.9E11|AVpf3txeLJeJML43FN82|microsoftsurfacep...|   Microsoft|         RH7-00001|Microsoft Surface...|      Electronics|2017-09-03T00:00:...|               true|                 0|2015-11-30 19:00:00|             5|Attached easily a...|       Nice keyboard|       UpstateNY|8.90E+11|1.1 pounds|\n",
      "|B0168YIWSI|Microsoft|Electronics,Compu...| Black|2015-11-13 07:28:09|2018-01-28 21:15:13|11.6 in x 8.5 in ...|8.9E11|AVpf3txeLJeJML43FN82|microsoftsurfacep...|   Microsoft|         RH7-00001|Microsoft Surface...|      Electronics|2017-09-03T00:00:...|               true|                 0|2015-11-27 19:00:00|             5|Our original keyb...|    Nice improvement|       Glickster|8.90E+11|1.1 pounds|\n",
      "|B0168YIWSI|Microsoft|Electronics,Compu...| Black|2015-11-13 07:28:09|2018-01-28 21:15:13|11.6 in x 8.5 in ...|8.9E11|AVpf3txeLJeJML43FN82|microsoftsurfacep...|   Microsoft|         RH7-00001|Microsoft Surface...|      Electronics|2017-09-03T00:00:...|               true|                 0|2015-11-27 19:00:00|             5|purchased to repl...|     big improvement|      gjohnsonxc|8.90E+11|1.1 pounds|\n",
      "|B0168YIWSI|Microsoft|Electronics,Compu...| Black|2015-11-13 07:28:09|2018-01-28 21:15:13|11.6 in x 8.5 in ...|8.9E11|AVpf3txeLJeJML43FN82|microsoftsurfacep...|   Microsoft|         RH7-00001|Microsoft Surface...|      Electronics|2017-09-03T00:00:...|               true|                 0|2015-11-26 19:00:00|             4|I find it very co...|  Perfect type cover|         nakulrk|8.90E+11|1.1 pounds|\n",
      "|B0168YIWSI|Microsoft|Electronics,Compu...| Black|2015-11-13 07:28:09|2018-01-28 21:15:13|11.6 in x 8.5 in ...|8.9E11|AVpf3txeLJeJML43FN82|microsoftsurfacep...|   Microsoft|         RH7-00001|Microsoft Surface...|      Electronics|2017-09-03T00:00:...|              false|                 0|2015-11-26 19:00:00|             3|Good Keyboard and...|       Good Keyboard|           Angie|8.90E+11|1.1 pounds|\n",
      "|B0168YIWSI|Microsoft|Electronics,Compu...| Black|2015-11-13 07:28:09|2018-01-28 21:15:13|11.6 in x 8.5 in ...|8.9E11|AVpf3txeLJeJML43FN82|microsoftsurfacep...|   Microsoft|         RH7-00001|Microsoft Surface...|      Electronics|2017-09-03T00:00:...|               true|                 0|2016-02-04 19:00:00|             4|tough getting it ...|    nice improvement|        papabear|8.90E+11|1.1 pounds|\n",
      "|B0168YIWSI|Microsoft|Electronics,Compu...| Black|2015-11-13 07:28:09|2018-01-28 21:15:13|11.6 in x 8.5 in ...|8.9E11|AVpf3txeLJeJML43FN82|microsoftsurfacep...|   Microsoft|         RH7-00001|Microsoft Surface...|      Electronics|2017-09-03T00:00:...|               true|                 0|2016-02-04 19:00:00|             5|I can now quickly...|Fingerprint Scann...|         A199578|8.90E+11|1.1 pounds|\n",
      "|B0168YIWSI|Microsoft|Electronics,Compu...| Black|2015-11-13 07:28:09|2018-01-28 21:15:13|11.6 in x 8.5 in ...|8.9E11|AVpf3txeLJeJML43FN82|microsoftsurfacep...|   Microsoft|         RH7-00001|Microsoft Surface...|      Electronics|2017-09-03T00:00:...|               true|                 0|2016-02-04 19:00:00|             5|A must have acces...|           Must have|     hooverlover|8.90E+11|1.1 pounds|\n",
      "|B0168YIWSI|Microsoft|Electronics,Compu...| Black|2015-11-13 07:28:09|2018-01-28 21:15:13|11.6 in x 8.5 in ...|8.9E11|AVpf3txeLJeJML43FN82|microsoftsurfacep...|   Microsoft|         RH7-00001|Microsoft Surface...|      Electronics|2017-09-03T00:00:...|              false|                 0|2016-02-04 19:00:00|             4|Fingerprint scann...| not worth the price|          lundi3|8.90E+11|1.1 pounds|\n",
      "|B0168YIWSI|Microsoft|Electronics,Compu...| Black|2015-11-13 07:28:09|2018-01-28 21:15:13|11.6 in x 8.5 in ...|8.9E11|AVpf3txeLJeJML43FN82|microsoftsurfacep...|   Microsoft|         RH7-00001|Microsoft Surface...|      Electronics|2017-09-03T00:00:...|               true|                 0|2016-02-04 19:00:00|             4|The keyboard feel...|Great keyboard; g...|          mevans|8.90E+11|1.1 pounds|\n",
      "|B0168YIWSI|Microsoft|Electronics,Compu...| Black|2015-11-13 07:28:09|2018-01-28 21:15:13|11.6 in x 8.5 in ...|8.9E11|AVpf3txeLJeJML43FN82|microsoftsurfacep...|   Microsoft|         RH7-00001|Microsoft Surface...|      Electronics|2017-09-03T00:00:...|               true|                 0|2016-02-01 19:00:00|             4|I really like the...|Keyboard very smo...|          Looloo|8.90E+11|1.1 pounds|\n",
      "|B0168YIWSI|Microsoft|Electronics,Compu...| Black|2015-11-13 07:28:09|2018-01-28 21:15:13|11.6 in x 8.5 in ...|8.9E11|AVpf3txeLJeJML43FN82|microsoftsurfacep...|   Microsoft|         RH7-00001|Microsoft Surface...|      Electronics|2017-09-03T00:00:...|               true|                 0|2016-01-30 19:00:00|             4|Good product but ...|              Pricey|           kooah|8.90E+11|1.1 pounds|\n",
      "|B0168YIWSI|Microsoft|Electronics,Compu...| Black|2015-11-13 07:28:09|2018-01-28 21:15:13|11.6 in x 8.5 in ...|8.9E11|AVpf3txeLJeJML43FN82|microsoftsurfacep...|   Microsoft|         RH7-00001|Microsoft Surface...|      Electronics|2017-09-03T00:00:...|               true|                 0|2016-01-30 19:00:00|             5|Best keyboard. A ...|              a must|           kbrei|8.90E+11|1.1 pounds|\n",
      "|B0168YIWSI|Microsoft|Electronics,Compu...| Black|2015-11-13 07:28:09|2018-01-28 21:15:13|11.6 in x 8.5 in ...|8.9E11|AVpf3txeLJeJML43FN82|microsoftsurfacep...|   Microsoft|         RH7-00001|Microsoft Surface...|      Electronics|2017-09-03T00:00:...|               true|                 2|2015-11-19 19:00:00|             5|Keyboard works pe...|     Great Keyboard!|     LovetoSleep|8.90E+11|1.1 pounds|\n",
      "|B0168YIWSI|Microsoft|Electronics,Compu...| Black|2015-11-13 07:28:09|2018-01-28 21:15:13|11.6 in x 8.5 in ...|8.9E11|AVpf3txeLJeJML43FN82|microsoftsurfacep...|   Microsoft|         RH7-00001|Microsoft Surface...|      Electronics|2017-09-03T00:00:...|               true|                 2|2015-11-15 19:00:00|             5|Coming from mecha...|Best type cover k...|      TopGadgets|8.90E+11|1.1 pounds|\n",
      "|B0168YIWSI|Microsoft|Electronics,Compu...| Black|2015-11-13 07:28:09|2018-01-28 21:15:13|11.6 in x 8.5 in ...|8.9E11|AVpf3txeLJeJML43FN82|microsoftsurfacep...|   Microsoft|         RH7-00001|Microsoft Surface...|      Electronics|2017-09-03T00:00:...|               true|                 2|2015-11-09 19:00:00|             4|Keyboard is solid...|      Solid keyboard|         Pod3000|8.90E+11|1.1 pounds|\n",
      "|B0168YIWSI|Microsoft|Electronics,Compu...| Black|2015-11-13 07:28:09|2018-01-28 21:15:13|11.6 in x 8.5 in ...|8.9E11|AVpf3txeLJeJML43FN82|microsoftsurfacep...|   Microsoft|         RH7-00001|Microsoft Surface...|      Electronics|2017-09-03T00:00:...|               true|                 4|2015-11-05 19:00:00|             5|I did not get the...|This is a start t...|         mpussah|8.90E+11|1.1 pounds|\n",
      "+----------+---------+--------------------+------+-------------------+-------------------+--------------------+------+--------------------+--------------------+------------+------------------+--------------------+-----------------+--------------------+-------------------+------------------+-------------------+--------------+--------------------+--------------------+----------------+--------+----------+\n",
      "only showing top 20 rows\n",
      "\n"
     ]
    }
   ],
   "source": [
    "#drop any rows which does not has atleast 2 non null\n",
    "df_nonull.na.drop(how='any',thresh=23).show()"
   ]
  },
  {
   "cell_type": "code",
   "execution_count": 18,
   "metadata": {
    "scrolled": true
   },
   "outputs": [
    {
     "name": "stdout",
     "output_type": "stream",
     "text": [
      "+-----+-----+----------+------+---------+-----------+---------+---+---+----+------------+------------------+----+-----------------+----------------+-------------------+------------------+------------+--------------+------------+-------------+----------------+---+------+\n",
      "|asins|brand|categories|colors|dateAdded|dateUpdated|dimension|ean| id|keys|manufacturer|manufacturerNumber|name|primaryCategories|reviews_dateSeen|reviews_doRecommend|reviews_numHelpful|reviews_date|reviews_rating|reviews_text|reviews_title|reviews_username|upc|weight|\n",
      "+-----+-----+----------+------+---------+-----------+---------+---+---+----+------------+------------------+----+-----------------+----------------+-------------------+------------------+------------+--------------+------------+-------------+----------------+---+------+\n",
      "+-----+-----+----------+------+---------+-----------+---------+---+---+----+------------+------------------+----+-----------------+----------------+-------------------+------------------+------------+--------------+------------+-------------+----------------+---+------+\n",
      "\n"
     ]
    }
   ],
   "source": [
    "#drop any rows for the column 'Age' which has null\n",
    "df_nonull.na.drop(how='any',thresh=23,subset='reviews_numHelpful').show()"
   ]
  },
  {
   "cell_type": "code",
   "execution_count": 19,
   "metadata": {
    "scrolled": true
   },
   "outputs": [
    {
     "name": "stdout",
     "output_type": "stream",
     "text": [
      "+----------+---------+--------------------+------+-------------------+-------------------+--------------------+------+--------------------+--------------------+------------+------------------+--------------------+-----------------+--------------------+-------------------+------------------+-------------------+--------------+--------------------+--------------------+----------------+--------+----------+\n",
      "|     asins|    brand|          categories|colors|          dateAdded|        dateUpdated|           dimension|   ean|                  id|                keys|manufacturer|manufacturerNumber|                name|primaryCategories|    reviews_dateSeen|reviews_doRecommend|reviews_numHelpful|       reviews_date|reviews_rating|        reviews_text|       reviews_title|reviews_username|     upc|    weight|\n",
      "+----------+---------+--------------------+------+-------------------+-------------------+--------------------+------+--------------------+--------------------+------------+------------------+--------------------+-----------------+--------------------+-------------------+------------------+-------------------+--------------+--------------------+--------------------+----------------+--------+----------+\n",
      "|B0168YIWSI|Microsoft|Electronics,Compu...| Black|2015-11-13 07:28:09|2018-01-28 21:15:13|11.6 in x 8.5 in ...|8.9E11|AVpf3txeLJeJML43FN82|microsoftsurfacep...|   Microsoft|         RH7-00001|Microsoft Surface...|      Electronics|2017-09-03T00:00:...|               true|                 0|2015-12-03 19:00:00|             5|This keyboard is ...|Love the fingerpr...|            JNH1|8.90E+11|1.1 pounds|\n",
      "|B0168YIWSI|Microsoft|Electronics,Compu...| Black|2015-11-13 07:28:09|2018-01-28 21:15:13|11.6 in x 8.5 in ...|8.9E11|AVpf3txeLJeJML43FN82|microsoftsurfacep...|   Microsoft|         RH7-00001|Microsoft Surface...|      Electronics|2017-09-03T00:00:...|               true|                 0|2015-12-03 19:00:00|             4|It's thin and lig...|                Nice|            Appa|8.90E+11|1.1 pounds|\n",
      "|B0168YIWSI|Microsoft|Electronics,Compu...| Black|2015-11-13 07:28:09|2018-01-28 21:15:13|11.6 in x 8.5 in ...|8.9E11|AVpf3txeLJeJML43FN82|microsoftsurfacep...|   Microsoft|         RH7-00001|Microsoft Surface...|      Electronics|2017-09-03T00:00:...|               true|                 0|2015-12-03 19:00:00|             4|I love the new de...|                 New|            Kman|8.90E+11|1.1 pounds|\n",
      "|B0168YIWSI|Microsoft|Electronics,Compu...| Black|2015-11-13 07:28:09|2018-01-28 21:15:13|11.6 in x 8.5 in ...|8.9E11|AVpf3txeLJeJML43FN82|microsoftsurfacep...|   Microsoft|         RH7-00001|Microsoft Surface...|      Electronics|2017-09-03T00:00:...|               true|                 0|2015-11-30 19:00:00|             5|Attached easily a...|       Nice keyboard|       UpstateNY|8.90E+11|1.1 pounds|\n",
      "|B0168YIWSI|Microsoft|Electronics,Compu...| Black|2015-11-13 07:28:09|2018-01-28 21:15:13|11.6 in x 8.5 in ...|8.9E11|AVpf3txeLJeJML43FN82|microsoftsurfacep...|   Microsoft|         RH7-00001|Microsoft Surface...|      Electronics|2017-09-03T00:00:...|               true|                 0|2015-11-27 19:00:00|             5|Our original keyb...|    Nice improvement|       Glickster|8.90E+11|1.1 pounds|\n",
      "|B0168YIWSI|Microsoft|Electronics,Compu...| Black|2015-11-13 07:28:09|2018-01-28 21:15:13|11.6 in x 8.5 in ...|8.9E11|AVpf3txeLJeJML43FN82|microsoftsurfacep...|   Microsoft|         RH7-00001|Microsoft Surface...|      Electronics|2017-09-03T00:00:...|               true|                 0|2015-11-27 19:00:00|             5|purchased to repl...|     big improvement|      gjohnsonxc|8.90E+11|1.1 pounds|\n",
      "|B0168YIWSI|Microsoft|Electronics,Compu...| Black|2015-11-13 07:28:09|2018-01-28 21:15:13|11.6 in x 8.5 in ...|8.9E11|AVpf3txeLJeJML43FN82|microsoftsurfacep...|   Microsoft|         RH7-00001|Microsoft Surface...|      Electronics|2017-09-03T00:00:...|               true|                 0|2015-11-26 19:00:00|             4|I find it very co...|  Perfect type cover|         nakulrk|8.90E+11|1.1 pounds|\n",
      "|B0168YIWSI|Microsoft|Electronics,Compu...| Black|2015-11-13 07:28:09|2018-01-28 21:15:13|11.6 in x 8.5 in ...|8.9E11|AVpf3txeLJeJML43FN82|microsoftsurfacep...|   Microsoft|         RH7-00001|Microsoft Surface...|      Electronics|2017-09-03T00:00:...|              false|                 0|2015-11-26 19:00:00|             3|Good Keyboard and...|       Good Keyboard|           Angie|8.90E+11|1.1 pounds|\n",
      "|B0168YIWSI|Microsoft|Electronics,Compu...| Black|2015-11-13 07:28:09|2018-01-28 21:15:13|11.6 in x 8.5 in ...|8.9E11|AVpf3txeLJeJML43FN82|microsoftsurfacep...|   Microsoft|         RH7-00001|Microsoft Surface...|      Electronics|2017-09-03T00:00:...|               true|                 0|2016-02-04 19:00:00|             4|tough getting it ...|    nice improvement|        papabear|8.90E+11|1.1 pounds|\n",
      "|B0168YIWSI|Microsoft|Electronics,Compu...| Black|2015-11-13 07:28:09|2018-01-28 21:15:13|11.6 in x 8.5 in ...|8.9E11|AVpf3txeLJeJML43FN82|microsoftsurfacep...|   Microsoft|         RH7-00001|Microsoft Surface...|      Electronics|2017-09-03T00:00:...|               true|                 0|2016-02-04 19:00:00|             5|I can now quickly...|Fingerprint Scann...|         A199578|8.90E+11|1.1 pounds|\n",
      "|B0168YIWSI|Microsoft|Electronics,Compu...| Black|2015-11-13 07:28:09|2018-01-28 21:15:13|11.6 in x 8.5 in ...|8.9E11|AVpf3txeLJeJML43FN82|microsoftsurfacep...|   Microsoft|         RH7-00001|Microsoft Surface...|      Electronics|2017-09-03T00:00:...|               true|                 0|2016-02-04 19:00:00|             5|A must have acces...|           Must have|     hooverlover|8.90E+11|1.1 pounds|\n",
      "|B0168YIWSI|Microsoft|Electronics,Compu...| Black|2015-11-13 07:28:09|2018-01-28 21:15:13|11.6 in x 8.5 in ...|8.9E11|AVpf3txeLJeJML43FN82|microsoftsurfacep...|   Microsoft|         RH7-00001|Microsoft Surface...|      Electronics|2017-09-03T00:00:...|              false|                 0|2016-02-04 19:00:00|             4|Fingerprint scann...| not worth the price|          lundi3|8.90E+11|1.1 pounds|\n",
      "|B0168YIWSI|Microsoft|Electronics,Compu...| Black|2015-11-13 07:28:09|2018-01-28 21:15:13|11.6 in x 8.5 in ...|8.9E11|AVpf3txeLJeJML43FN82|microsoftsurfacep...|   Microsoft|         RH7-00001|Microsoft Surface...|      Electronics|2017-09-03T00:00:...|               true|                 0|2016-02-04 19:00:00|             4|The keyboard feel...|Great keyboard; g...|          mevans|8.90E+11|1.1 pounds|\n",
      "|B0168YIWSI|Microsoft|Electronics,Compu...| Black|2015-11-13 07:28:09|2018-01-28 21:15:13|11.6 in x 8.5 in ...|8.9E11|AVpf3txeLJeJML43FN82|microsoftsurfacep...|   Microsoft|         RH7-00001|Microsoft Surface...|      Electronics|2017-09-03T00:00:...|               true|                 0|2016-02-01 19:00:00|             4|I really like the...|Keyboard very smo...|          Looloo|8.90E+11|1.1 pounds|\n",
      "|B0168YIWSI|Microsoft|Electronics,Compu...| Black|2015-11-13 07:28:09|2018-01-28 21:15:13|11.6 in x 8.5 in ...|8.9E11|AVpf3txeLJeJML43FN82|microsoftsurfacep...|   Microsoft|         RH7-00001|Microsoft Surface...|      Electronics|2017-09-03T00:00:...|               true|                 0|2016-01-30 19:00:00|             4|Good product but ...|              Pricey|           kooah|8.90E+11|1.1 pounds|\n",
      "|B0168YIWSI|Microsoft|Electronics,Compu...| Black|2015-11-13 07:28:09|2018-01-28 21:15:13|11.6 in x 8.5 in ...|8.9E11|AVpf3txeLJeJML43FN82|microsoftsurfacep...|   Microsoft|         RH7-00001|Microsoft Surface...|      Electronics|2017-09-03T00:00:...|               true|                 0|2016-01-30 19:00:00|             5|Best keyboard. A ...|              a must|           kbrei|8.90E+11|1.1 pounds|\n",
      "|B0168YIWSI|Microsoft|Electronics,Compu...| Black|2015-11-13 07:28:09|2018-01-28 21:15:13|11.6 in x 8.5 in ...|8.9E11|AVpf3txeLJeJML43FN82|microsoftsurfacep...|   Microsoft|         RH7-00001|Microsoft Surface...|      Electronics|2017-09-03T00:00:...|               true|                 2|2015-11-19 19:00:00|             5|Keyboard works pe...|     Great Keyboard!|     LovetoSleep|8.90E+11|1.1 pounds|\n",
      "|B0168YIWSI|Microsoft|Electronics,Compu...| Black|2015-11-13 07:28:09|2018-01-28 21:15:13|11.6 in x 8.5 in ...|8.9E11|AVpf3txeLJeJML43FN82|microsoftsurfacep...|   Microsoft|         RH7-00001|Microsoft Surface...|      Electronics|2017-09-03T00:00:...|               true|                 2|2015-11-15 19:00:00|             5|Coming from mecha...|Best type cover k...|      TopGadgets|8.90E+11|1.1 pounds|\n",
      "|B0168YIWSI|Microsoft|Electronics,Compu...| Black|2015-11-13 07:28:09|2018-01-28 21:15:13|11.6 in x 8.5 in ...|8.9E11|AVpf3txeLJeJML43FN82|microsoftsurfacep...|   Microsoft|         RH7-00001|Microsoft Surface...|      Electronics|2017-09-03T00:00:...|               true|                 2|2015-11-09 19:00:00|             4|Keyboard is solid...|      Solid keyboard|         Pod3000|8.90E+11|1.1 pounds|\n",
      "|B0168YIWSI|Microsoft|Electronics,Compu...| Black|2015-11-13 07:28:09|2018-01-28 21:15:13|11.6 in x 8.5 in ...|8.9E11|AVpf3txeLJeJML43FN82|microsoftsurfacep...|   Microsoft|         RH7-00001|Microsoft Surface...|      Electronics|2017-09-03T00:00:...|               true|                 4|2015-11-05 19:00:00|             5|I did not get the...|This is a start t...|         mpussah|8.90E+11|1.1 pounds|\n",
      "+----------+---------+--------------------+------+-------------------+-------------------+--------------------+------+--------------------+--------------------+------------+------------------+--------------------+-----------------+--------------------+-------------------+------------------+-------------------+--------------+--------------------+--------------------+----------------+--------+----------+\n",
      "only showing top 20 rows\n",
      "\n"
     ]
    }
   ],
   "source": [
    "#fills all null in table to 'missing values'\n",
    "df_trim.na.fill('Missing Values').show()"
   ]
  },
  {
   "cell_type": "code",
   "execution_count": null,
   "metadata": {},
   "outputs": [],
   "source": []
  },
  {
   "cell_type": "code",
   "execution_count": null,
   "metadata": {},
   "outputs": [],
   "source": []
  }
 ],
 "metadata": {
  "kernelspec": {
   "display_name": "Python 3",
   "language": "python",
   "name": "python3"
  },
  "language_info": {
   "codemirror_mode": {
    "name": "ipython",
    "version": 3
   },
   "file_extension": ".py",
   "mimetype": "text/x-python",
   "name": "python",
   "nbconvert_exporter": "python",
   "pygments_lexer": "ipython3",
   "version": "3.7.7"
  }
 },
 "nbformat": 4,
 "nbformat_minor": 4
}
